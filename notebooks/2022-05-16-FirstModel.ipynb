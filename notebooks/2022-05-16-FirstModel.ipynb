{
 "cells": [
  {
   "cell_type": "markdown",
   "metadata": {},
   "source": [
    "# First Transformer Model for Taylor Expansion"
   ]
  },
  {
   "cell_type": "markdown",
   "metadata": {},
   "source": [
    "- Data from `generate_data.py`, 1000 formulas\n",
    "- Transform to prefix notation first, then encode the tokens\n",
    "- Imitated [spanish translation transformer](https://keras.io/examples/nlp/neural_machine_translation_with_transformer/)\n",
    "\n",
    "Problems:\n",
    "- not enough data?\n",
    "- cannot go back from prefix notation with sympy I think"
   ]
  },
  {
   "cell_type": "code",
   "execution_count": 1,
   "metadata": {},
   "outputs": [],
   "source": [
    "import numpy as np\n",
    "import random\n",
    "import pandas as pd\n",
    "import os\n",
    "import sympy\n",
    "import tensorflow as tf\n",
    "from tensorflow.keras.layers import TextVectorization\n",
    "from tensorflow.keras.preprocessing.text import Tokenizer\n",
    "from tensorflow import keras\n",
    "from tensorflow.keras import layers\n",
    "from sympy import srepr\n",
    "# from sympy import preorder_traversal, symbols, Symbol, Integer, tan\n",
    "from sympy import *\n",
    "from sympy.parsing.sympy_parser import parse_expr\n",
    "from gensim.models import Word2Vec\n",
    "from icecream import ic"
   ]
  },
  {
   "cell_type": "code",
   "execution_count": 2,
   "metadata": {},
   "outputs": [],
   "source": [
    "os.chdir(\"..\")"
   ]
  },
  {
   "cell_type": "code",
   "execution_count": 3,
   "metadata": {},
   "outputs": [],
   "source": [
    "from source.data_preparation import sympy_tokenize, sympy_tokenize_str, vectorize_ds, vectorize_sentence, pad_right"
   ]
  },
  {
   "cell_type": "code",
   "execution_count": 4,
   "metadata": {},
   "outputs": [],
   "source": [
    "data_file = \"data.nosync/data.txt\"\n",
    "taylor_file = \"data.nosync/data_taylor.txt\"\n",
    "coeffs_file = \"data.nosync/data_coeffs.txt\"\n",
    "\n",
    "start = [\"[start]\"]\n",
    "end = [\"[end]\"]\n",
    "\n",
    "with open(data_file) as f:\n",
    "    X = f.read().split(\"\\n\")\n",
    "    X = np.array(X)\n",
    "    X = X[:-1]   # somehow last entry is empty\n",
    "    X = [parse_expr(xi) for xi in X]\n",
    "\n",
    "with open(taylor_file) as f:\n",
    "    y_taylor = f.read().split(\"\\n\")\n",
    "    y_taylor = np.array(y_taylor)\n",
    "    y_taylor = y_taylor[:-1]\n",
    "    y_taylor = [parse_expr(yi) for yi in y_taylor]"
   ]
  },
  {
   "cell_type": "code",
   "execution_count": 5,
   "metadata": {},
   "outputs": [],
   "source": [
    "with open(coeffs_file) as f:\n",
    "    y_coeffs = f.read().split(\"\\n\")\n",
    "    y_coeffs = y_coeffs[:-1]\n",
    "    for i, y in enumerate(y_coeffs):\n",
    "        y = parse_expr(y)\n",
    "        # add start end tokens and remove whitespaces\n",
    "        y_coeffs[i] = y "
   ]
  },
  {
   "cell_type": "code",
   "execution_count": 6,
   "metadata": {},
   "outputs": [
    {
     "name": "stdout",
     "output_type": "stream",
     "text": [
      "True\n"
     ]
    }
   ],
   "source": [
    "tmp = [[X[i], y_coeffs[i], y_taylor[i]] for i in range(0, len(X))]\n",
    "random.shuffle(tmp)\n",
    "\n",
    "num_train_samples = int(0.90 * len(tmp))\n",
    "\n",
    "train = tmp[0:num_train_samples]\n",
    "test = tmp[num_train_samples:]\n",
    "X_train = [x[0] for x in train]\n",
    "X_test = [x[0] for x in test]\n",
    "y_taylor_train = [x[2] for x in train]\n",
    "y_taylor_test = [x[2] for x in test]\n",
    "print(len(tmp) == len(train) + len(test))"
   ]
  },
  {
   "cell_type": "markdown",
   "metadata": {},
   "source": [
    "# Some Examples"
   ]
  },
  {
   "cell_type": "code",
   "execution_count": 214,
   "metadata": {},
   "outputs": [
    {
     "data": {
      "text/plain": [
       "[sinh(x),\n",
       " exp(c + x + tanh(x)),\n",
       " tan(sqrt(cos(x**2))),\n",
       " sin(x + 1)**cos(a**(2*x)),\n",
       " tan(cos(d)) + sinh(exp(x))]"
      ]
     },
     "execution_count": 214,
     "metadata": {},
     "output_type": "execute_result"
    }
   ],
   "source": [
    "X_train[0:5]"
   ]
  },
  {
   "cell_type": "code",
   "execution_count": 215,
   "metadata": {},
   "outputs": [
    {
     "data": {
      "text/plain": [
       "[x**3/6 + x,\n",
       " x**3*exp(c) + 2*x**2*exp(c) + 2*x*exp(c) + exp(c),\n",
       " x**4*(-tan(1)**2/4 - 1/4) + tan(1),\n",
       " x**4*((2*log(a)*log(sin(1))*sin(1) - cos(1)**2/sin(1))**4 - 6*(2*log(a)*log(sin(1))*sin(1) - cos(1)**2/sin(1))**2*(4*log(a)**2*log(sin(1))*sin(1) + 4*log(a)**2*log(sin(1))*cos(1) + 4*log(a)*cos(1) + cos(1)**3/sin(1)**2 + cos(1)) - (16*log(a)*log(sin(1))*sin(1) - 8*cos(1)**2/sin(1))*(-12*log(a)**3*log(sin(1))*cos(1) - 6*log(a)**2*cos(1) - 6*log(a)**2*cos(1)**2/sin(1) + 3*log(a)*cos(1)**2/sin(1) + 3*log(a)*sin(1) + cos(1)**4/sin(1)**3 + cos(1)**2/sin(1)) + 3*(4*log(a)**2*log(sin(1))*sin(1) + 4*log(a)**2*log(sin(1))*cos(1) + 4*log(a)*cos(1) + cos(1)**3/sin(1)**2 + cos(1))**2 + 80*log(a)**4*log(sin(1))*sin(1) - 96*log(a)**4*log(sin(1))*cos(1) - 96*log(a)**3*cos(1)**2/sin(1) + 24*log(a)**2*cos(1)**3/sin(1)**2 + 24*log(a)**2*cos(1)**2/sin(1) + 24*log(a)**2*cos(1) + 24*log(a)**2*sin(1) - 16*log(a)*cos(1) - 16*log(a)*cos(1)**3/sin(1)**2 - 8*cos(1)**3/sin(1)**2 - 2*cos(1) - 6*cos(1)**5/sin(1)**4)*sin(1)**cos(1)/24 + x**3*(-(2*log(a)*log(sin(1))*sin(1) - cos(1)**2/sin(1))**3 + (6*log(a)*log(sin(1))*sin(1) - 3*cos(1)**2/sin(1))*(4*log(a)**2*log(sin(1))*sin(1) + 4*log(a)**2*log(sin(1))*cos(1) + 4*log(a)*cos(1) + cos(1)**3/sin(1)**2 + cos(1)) - 24*log(a)**3*log(sin(1))*cos(1) - 12*log(a)**2*cos(1) - 12*log(a)**2*cos(1)**2/sin(1) + 6*log(a)*cos(1)**2/sin(1) + 6*log(a)*sin(1) + 2*cos(1)**4/sin(1)**3 + 2*cos(1)**2/sin(1))*sin(1)**cos(1)/6 + x**2*((2*log(a)*log(sin(1))*sin(1) - cos(1)**2/sin(1))**2 - 4*log(a)**2*log(sin(1))*cos(1) - 4*log(a)**2*log(sin(1))*sin(1) - 4*log(a)*cos(1) - cos(1) - cos(1)**3/sin(1)**2)*sin(1)**cos(1)/2 + x*(-2*log(a)*log(sin(1))*sin(1) + cos(1)**2/sin(1))*sin(1)**cos(1) + sin(1)**cos(1),\n",
       " x**4*(sinh(1)/3 + 7*cosh(1)/24) + x**3*(cosh(1)/3 + sinh(1)/2) + x**2*(sinh(1)/2 + cosh(1)/2) + x*cosh(1) + tan(cos(d)) + sinh(1)]"
      ]
     },
     "execution_count": 215,
     "metadata": {},
     "output_type": "execute_result"
    }
   ],
   "source": [
    "y_taylor_train[0:5]"
   ]
  },
  {
   "cell_type": "markdown",
   "metadata": {},
   "source": [
    "# Vectorization"
   ]
  },
  {
   "cell_type": "code",
   "execution_count": 7,
   "metadata": {},
   "outputs": [],
   "source": [
    "X_tokenized_str_train = [sympy_tokenize_str(Xi) for Xi in X_train]\n",
    "y_taylor_tokenized_str_train = [start+sympy_tokenize_str(yi)+end for yi in y_taylor_train]\n",
    "\n",
    "X_tokenized_str_test = [sympy_tokenize_str(Xi) for Xi in X_test]\n",
    "y_taylor_tokenized_str_test = [start+sympy_tokenize_str(yi)+end for yi in y_taylor_test]"
   ]
  },
  {
   "cell_type": "code",
   "execution_count": 9,
   "metadata": {},
   "outputs": [],
   "source": [
    "word2vec_X = Word2Vec(sentences=X_tokenized_str_train, vector_size=100, window=5, min_count=1, workers=4)\n",
    "word2vec_y = Word2Vec(sentences=y_taylor_tokenized_str_train, vector_size=100, window=5, min_count=1, workers=4)"
   ]
  },
  {
   "cell_type": "code",
   "execution_count": 11,
   "metadata": {},
   "outputs": [],
   "source": [
    "sequence_length_X = 200\n",
    "sequence_length_y = 201\n",
    "X_vectorized_train = vectorize_ds(X_tokenized_str_train, word2vec_X, sequence_length=sequence_length_X)\n",
    "y_taylor_vectorized_train = vectorize_ds(y_taylor_tokenized_str_train, word2vec_y, sequence_length=sequence_length_y)\n",
    "\n",
    "X_vectorized_test = vectorize_ds(X_tokenized_str_test, word2vec_X, sequence_length=sequence_length_X)\n",
    "y_taylor_vectorized_test = vectorize_ds(y_taylor_tokenized_str_test, word2vec_y, sequence_length=sequence_length_y)"
   ]
  },
  {
   "cell_type": "code",
   "execution_count": 239,
   "metadata": {},
   "outputs": [
    {
     "data": {
      "text/plain": [
       "[['sinh', \"Symbol('x')\"],\n",
       " ['exp',\n",
       "  \"<'sympy.core.add.Add'>\",\n",
       "  \"Symbol('c')\",\n",
       "  \"Symbol('x')\",\n",
       "  'tanh',\n",
       "  \"Symbol('x')\"],\n",
       " ['tan',\n",
       "  \"<'sympy.core.power.Pow'>\",\n",
       "  'cos',\n",
       "  \"<'sympy.core.power.Pow'>\",\n",
       "  \"Symbol('x')\",\n",
       "  'Integer(2)',\n",
       "  \"<'sympy.core.numbers.Half'>\"]]"
      ]
     },
     "execution_count": 239,
     "metadata": {},
     "output_type": "execute_result"
    }
   ],
   "source": [
    "X_tokenized_str_train[0:3]"
   ]
  },
  {
   "cell_type": "code",
   "execution_count": 240,
   "metadata": {},
   "outputs": [
    {
     "data": {
      "text/plain": [
       "[['[start]',\n",
       "  \"<'sympy.core.add.Add'>\",\n",
       "  \"Symbol('x')\",\n",
       "  \"<'sympy.core.mul.Mul'>\",\n",
       "  \"<'sympy.core.numbers.Rational'>\",\n",
       "  \"<'sympy.core.power.Pow'>\",\n",
       "  \"Symbol('x')\",\n",
       "  'Integer(3)',\n",
       "  '[end]'],\n",
       " ['[start]',\n",
       "  \"<'sympy.core.add.Add'>\",\n",
       "  \"<'sympy.core.mul.Mul'>\",\n",
       "  \"<'sympy.core.power.Pow'>\",\n",
       "  \"Symbol('x')\",\n",
       "  'Integer(3)',\n",
       "  'exp',\n",
       "  \"Symbol('c')\",\n",
       "  \"<'sympy.core.mul.Mul'>\",\n",
       "  'Integer(2)',\n",
       "  \"Symbol('x')\",\n",
       "  'exp',\n",
       "  \"Symbol('c')\",\n",
       "  \"<'sympy.core.mul.Mul'>\",\n",
       "  'Integer(2)',\n",
       "  \"<'sympy.core.power.Pow'>\",\n",
       "  \"Symbol('x')\",\n",
       "  'Integer(2)',\n",
       "  'exp',\n",
       "  \"Symbol('c')\",\n",
       "  'exp',\n",
       "  \"Symbol('c')\",\n",
       "  '[end]'],\n",
       " ['[start]',\n",
       "  \"<'sympy.core.add.Add'>\",\n",
       "  \"<'sympy.core.mul.Mul'>\",\n",
       "  \"<'sympy.core.power.Pow'>\",\n",
       "  \"Symbol('x')\",\n",
       "  'Integer(4)',\n",
       "  \"<'sympy.core.add.Add'>\",\n",
       "  \"<'sympy.core.numbers.Rational'>\",\n",
       "  \"<'sympy.core.mul.Mul'>\",\n",
       "  \"<'sympy.core.numbers.Rational'>\",\n",
       "  \"<'sympy.core.power.Pow'>\",\n",
       "  'tan',\n",
       "  \"<'sympy.core.numbers.One'>\",\n",
       "  'Integer(2)',\n",
       "  'tan',\n",
       "  \"<'sympy.core.numbers.One'>\",\n",
       "  '[end]']]"
      ]
     },
     "execution_count": 240,
     "metadata": {},
     "output_type": "execute_result"
    }
   ],
   "source": [
    "y_taylor_tokenized_str_train[0:3]"
   ]
  },
  {
   "cell_type": "code",
   "execution_count": 27,
   "metadata": {},
   "outputs": [],
   "source": [
    "def unvectorize_sentence(Xi, model):\n",
    "    end_ind = np.min(np.where(np.array(Xi) == 0)[0])\n",
    "    Xi_trunc = Xi[0:end_ind]\n",
    "    return [ model.wv.index_to_key[word-1] for word in Xi_trunc]\n",
    "\n",
    "def unvectorize(X_vectorized, model):\n",
    "    X_unvectorized = [unvectorize_sentence(sentence, model) for sentence in X_vectorized]\n",
    "    return X_unvectorized"
   ]
  },
  {
   "cell_type": "code",
   "execution_count": 28,
   "metadata": {},
   "outputs": [],
   "source": [
    "batch_size=16\n",
    "\n",
    "def format_dataset(X, y):\n",
    "    X = vectorize_ds(X, word2vec_X, sequence_length=sequence_length_X)\n",
    "    y = vectorize_ds(y, word2vec_y, sequence_length=sequence_length_y)\n",
    "    X = np.array(X)\n",
    "    y = np.array(y)\n",
    "    return ({\"encoder_inputs\": X, \"decoder_inputs\": y[:, :-1],}, y[:, 1:])\n",
    "\n",
    "def make_dataset(X, y):\n",
    "    dataset = format_dataset(X,y)\n",
    "    dataset = tf.data.Dataset.from_tensor_slices(dataset)\n",
    "    dataset = dataset.batch(batch_size)\n",
    "    return dataset.shuffle(2048).prefetch(16).cache()\n",
    "\n",
    "\n",
    "train_ds = make_dataset(X_tokenized_str_train, y_taylor_tokenized_str_train)"
   ]
  },
  {
   "cell_type": "code",
   "execution_count": 29,
   "metadata": {},
   "outputs": [
    {
     "name": "stdout",
     "output_type": "stream",
     "text": [
      "inputs[\"encoder_inputs\"].shape: (16, 200)\n",
      "inputs[\"decoder_inputs\"].shape: (16, 200)\n",
      "targets.shape: (16, 200)\n"
     ]
    },
    {
     "name": "stderr",
     "output_type": "stream",
     "text": [
      "2022-05-19 03:51:58.474423: W tensorflow/core/kernels/data/cache_dataset_ops.cc:768] The calling iterator did not fully read the dataset being cached. In order to avoid unexpected truncation of the dataset, the partially cached contents of the dataset  will be discarded. This can happen if you have an input pipeline similar to `dataset.cache().take(k).repeat()`. You should use `dataset.take(k).cache().repeat()` instead.\n"
     ]
    }
   ],
   "source": [
    "for inputs, targets in train_ds.take(1):\n",
    "    print(f'inputs[\"encoder_inputs\"].shape: {inputs[\"encoder_inputs\"].shape}')\n",
    "    print(f'inputs[\"decoder_inputs\"].shape: {inputs[\"decoder_inputs\"].shape}')\n",
    "    print(f\"targets.shape: {targets.shape}\")\n"
   ]
  },
  {
   "cell_type": "code",
   "execution_count": 30,
   "metadata": {},
   "outputs": [],
   "source": [
    "class TransformerEncoder(layers.Layer):\n",
    "    def __init__(self, embed_dim, dense_dim, num_heads, **kwargs):\n",
    "        super(TransformerEncoder, self).__init__(**kwargs)\n",
    "        self.embed_dim = embed_dim\n",
    "        self.dense_dim = dense_dim\n",
    "        self.num_heads = num_heads\n",
    "        self.attention = layers.MultiHeadAttention(\n",
    "            num_heads=num_heads, key_dim=embed_dim\n",
    "        )\n",
    "        self.dense_proj = keras.Sequential(\n",
    "            [layers.Dense(dense_dim, activation=\"relu\"), layers.Dense(embed_dim),]\n",
    "        )\n",
    "        self.layernorm_1 = layers.LayerNormalization()\n",
    "        self.layernorm_2 = layers.LayerNormalization()\n",
    "        self.supports_masking = True\n",
    "\n",
    "    def call(self, inputs, mask=None):\n",
    "        if mask is not None:\n",
    "            padding_mask = tf.cast(mask[:, tf.newaxis, tf.newaxis, :], dtype=\"int32\")\n",
    "        attention_output = self.attention(\n",
    "            query=inputs, value=inputs, key=inputs, attention_mask=padding_mask\n",
    "        )\n",
    "        proj_input = self.layernorm_1(inputs + attention_output)\n",
    "        proj_output = self.dense_proj(proj_input)\n",
    "        return self.layernorm_2(proj_input + proj_output)\n",
    "\n",
    "\n",
    "class PositionalEmbedding(layers.Layer):\n",
    "    def __init__(self, sequence_length, vocab_size, embed_dim, **kwargs):\n",
    "        super(PositionalEmbedding, self).__init__(**kwargs)\n",
    "        self.token_embeddings = layers.Embedding(\n",
    "            input_dim=vocab_size, output_dim=embed_dim\n",
    "        )\n",
    "        self.position_embeddings = layers.Embedding(\n",
    "            input_dim=sequence_length, output_dim=embed_dim\n",
    "        )\n",
    "        self.sequence_length = sequence_length\n",
    "        self.vocab_size = vocab_size\n",
    "        self.embed_dim = embed_dim\n",
    "\n",
    "    def call(self, inputs):\n",
    "        length = tf.shape(inputs)[-1]\n",
    "        positions = tf.range(start=0, limit=length, delta=1)\n",
    "        embedded_tokens = self.token_embeddings(inputs)\n",
    "        embedded_positions = self.position_embeddings(positions)\n",
    "        return embedded_tokens + embedded_positions\n",
    "\n",
    "    def compute_mask(self, inputs, mask=None):\n",
    "        return tf.math.not_equal(inputs, 0)\n",
    "\n",
    "\n",
    "class TransformerDecoder(layers.Layer):\n",
    "    def __init__(self, embed_dim, latent_dim, num_heads, **kwargs):\n",
    "        super(TransformerDecoder, self).__init__(**kwargs)\n",
    "        self.embed_dim = embed_dim\n",
    "        self.latent_dim = latent_dim\n",
    "        self.num_heads = num_heads\n",
    "        self.attention_1 = layers.MultiHeadAttention(\n",
    "            num_heads=num_heads, key_dim=embed_dim\n",
    "        )\n",
    "        self.attention_2 = layers.MultiHeadAttention(\n",
    "            num_heads=num_heads, key_dim=embed_dim\n",
    "        )\n",
    "        self.dense_proj = keras.Sequential(\n",
    "            [layers.Dense(latent_dim, activation=\"relu\"), layers.Dense(embed_dim),]\n",
    "        )\n",
    "        self.layernorm_1 = layers.LayerNormalization()\n",
    "        self.layernorm_2 = layers.LayerNormalization()\n",
    "        self.layernorm_3 = layers.LayerNormalization()\n",
    "        self.supports_masking = True\n",
    "\n",
    "    def call(self, inputs, encoder_outputs, mask=None):\n",
    "        causal_mask = self.get_causal_attention_mask(inputs)\n",
    "        if mask is not None:\n",
    "            padding_mask = tf.cast(mask[:, tf.newaxis, :], dtype=\"int32\")\n",
    "            padding_mask = tf.minimum(padding_mask, causal_mask)\n",
    "\n",
    "        attention_output_1 = self.attention_1(\n",
    "            query=inputs, value=inputs, key=inputs, attention_mask=causal_mask\n",
    "        )\n",
    "        out_1 = self.layernorm_1(inputs + attention_output_1)\n",
    "\n",
    "        attention_output_2 = self.attention_2(\n",
    "            query=out_1,\n",
    "            value=encoder_outputs,\n",
    "            key=encoder_outputs,\n",
    "            attention_mask=padding_mask,\n",
    "        )\n",
    "        out_2 = self.layernorm_2(out_1 + attention_output_2)\n",
    "\n",
    "        proj_output = self.dense_proj(out_2)\n",
    "        return self.layernorm_3(out_2 + proj_output)\n",
    "\n",
    "    def get_causal_attention_mask(self, inputs):\n",
    "        input_shape = tf.shape(inputs)\n",
    "        batch_size, sequence_length = input_shape[0], input_shape[1]\n",
    "        i = tf.range(sequence_length)[:, tf.newaxis]\n",
    "        j = tf.range(sequence_length)\n",
    "        mask = tf.cast(i >= j, dtype=\"int32\")\n",
    "        mask = tf.reshape(mask, (1, input_shape[1], input_shape[1]))\n",
    "        mult = tf.concat(\n",
    "            [tf.expand_dims(batch_size, -1), tf.constant([1, 1], dtype=tf.int32)],\n",
    "            axis=0,\n",
    "        )\n",
    "        return tf.tile(mask, mult)\n"
   ]
  },
  {
   "cell_type": "code",
   "execution_count": 31,
   "metadata": {},
   "outputs": [],
   "source": [
    "# X_vocab_size = len(word2vec_X.wv.key_to_index)\n",
    "# y_vocab_size = len(word2vec_y.wv.key_to_index)\n",
    "X_vocab_size = 200\n",
    "y_vocab_size = 200"
   ]
  },
  {
   "cell_type": "code",
   "execution_count": 220,
   "metadata": {},
   "outputs": [],
   "source": [
    "embed_dim = 256\n",
    "latent_dim = 512\n",
    "num_heads = 5\n",
    "\n",
    "encoder_inputs = keras.Input(shape=(None,), dtype=\"int64\", name=\"encoder_inputs\")\n",
    "x = PositionalEmbedding(sequence_length_X, X_vocab_size, embed_dim)(encoder_inputs)\n",
    "encoder_outputs = TransformerEncoder(embed_dim, latent_dim, num_heads)(x)\n",
    "encoder = keras.Model(encoder_inputs, encoder_outputs)\n",
    "\n",
    "decoder_inputs = keras.Input(shape=(None,), dtype=\"int64\", name=\"decoder_inputs\")\n",
    "encoded_seq_inputs = keras.Input(shape=(None, embed_dim), name=\"decoder_state_inputs\")\n",
    "x = PositionalEmbedding(sequence_length_X, y_vocab_size, embed_dim)(decoder_inputs)\n",
    "x = TransformerDecoder(embed_dim, latent_dim, num_heads)(x, encoded_seq_inputs)\n",
    "x = layers.Dropout(0.5)(x)\n",
    "decoder_outputs = layers.Dense(X_vocab_size, activation=\"softmax\")(x)\n",
    "decoder = keras.Model([decoder_inputs, encoded_seq_inputs], decoder_outputs)\n",
    "\n",
    "decoder_outputs = decoder([decoder_inputs, encoder_outputs])\n",
    "transformer = keras.Model(\n",
    "    [encoder_inputs, decoder_inputs], decoder_outputs, name=\"transformer\"\n",
    ")\n"
   ]
  },
  {
   "cell_type": "code",
   "execution_count": 221,
   "metadata": {},
   "outputs": [
    {
     "name": "stdout",
     "output_type": "stream",
     "text": [
      "Model: \"transformer\"\n",
      "__________________________________________________________________________________________________\n",
      " Layer (type)                   Output Shape         Param #     Connected to                     \n",
      "==================================================================================================\n",
      " encoder_inputs (InputLayer)    [(None, None)]       0           []                               \n",
      "                                                                                                  \n",
      " positional_embedding_4 (Positi  (None, None, 256)   102400      ['encoder_inputs[0][0]']         \n",
      " onalEmbedding)                                                                                   \n",
      "                                                                                                  \n",
      " decoder_inputs (InputLayer)    [(None, None)]       0           []                               \n",
      "                                                                                                  \n",
      " transformer_encoder_2 (Transfo  (None, None, 256)   1578752     ['positional_embedding_4[0][0]'] \n",
      " rmerEncoder)                                                                                     \n",
      "                                                                                                  \n",
      " model_5 (Functional)           (None, None, 200)    3047880     ['decoder_inputs[0][0]',         \n",
      "                                                                  'transformer_encoder_2[0][0]']  \n",
      "                                                                                                  \n",
      "==================================================================================================\n",
      "Total params: 4,729,032\n",
      "Trainable params: 4,729,032\n",
      "Non-trainable params: 0\n",
      "__________________________________________________________________________________________________\n"
     ]
    }
   ],
   "source": [
    "transformer.summary()"
   ]
  },
  {
   "cell_type": "code",
   "execution_count": 222,
   "metadata": {},
   "outputs": [
    {
     "name": "stdout",
     "output_type": "stream",
     "text": [
      "cuda_malloc_async\n"
     ]
    }
   ],
   "source": [
    "os.environ['TF_GPU_ALLOCATOR'] = 'cuda_malloc_async'\n",
    "print(os.getenv('TF_GPU_ALLOCATOR'))"
   ]
  },
  {
   "cell_type": "code",
   "execution_count": 223,
   "metadata": {},
   "outputs": [
    {
     "name": "stdout",
     "output_type": "stream",
     "text": [
      "Epoch 1/200\n",
      "57/57 [==============================] - 4s 37ms/step - loss: 0.8528 - accuracy: 0.2018\n",
      "Epoch 2/200\n",
      "57/57 [==============================] - 2s 36ms/step - loss: 0.5633 - accuracy: 0.3674\n",
      "Epoch 3/200\n",
      "57/57 [==============================] - 2s 37ms/step - loss: 0.5017 - accuracy: 0.4068\n",
      "Epoch 4/200\n",
      "57/57 [==============================] - 2s 37ms/step - loss: 0.4635 - accuracy: 0.4371\n",
      "Epoch 5/200\n",
      "57/57 [==============================] - 2s 37ms/step - loss: 0.4399 - accuracy: 0.4575\n",
      "Epoch 6/200\n",
      "57/57 [==============================] - 2s 37ms/step - loss: 0.4217 - accuracy: 0.4724\n",
      "Epoch 7/200\n",
      "57/57 [==============================] - 2s 37ms/step - loss: 0.4046 - accuracy: 0.4932\n",
      "Epoch 8/200\n",
      "57/57 [==============================] - 2s 37ms/step - loss: 0.3920 - accuracy: 0.5052\n",
      "Epoch 9/200\n",
      "57/57 [==============================] - 2s 37ms/step - loss: 0.3781 - accuracy: 0.5182\n",
      "Epoch 10/200\n",
      "57/57 [==============================] - 2s 37ms/step - loss: 0.3702 - accuracy: 0.5271\n",
      "Epoch 11/200\n",
      "57/57 [==============================] - 2s 37ms/step - loss: 0.3570 - accuracy: 0.5411\n",
      "Epoch 12/200\n",
      "57/57 [==============================] - 2s 37ms/step - loss: 0.3497 - accuracy: 0.5496\n",
      "Epoch 13/200\n",
      "57/57 [==============================] - 2s 37ms/step - loss: 0.3401 - accuracy: 0.5611\n",
      "Epoch 14/200\n",
      "57/57 [==============================] - 2s 37ms/step - loss: 0.3340 - accuracy: 0.5693\n",
      "Epoch 15/200\n",
      "57/57 [==============================] - 2s 38ms/step - loss: 0.3224 - accuracy: 0.5829\n",
      "Epoch 16/200\n",
      "57/57 [==============================] - 2s 37ms/step - loss: 0.3150 - accuracy: 0.5917\n",
      "Epoch 17/200\n",
      "57/57 [==============================] - 2s 38ms/step - loss: 0.3065 - accuracy: 0.6037\n",
      "Epoch 18/200\n",
      "57/57 [==============================] - 2s 38ms/step - loss: 0.2988 - accuracy: 0.6106\n",
      "Epoch 19/200\n",
      "57/57 [==============================] - 2s 37ms/step - loss: 0.2914 - accuracy: 0.6180\n",
      "Epoch 20/200\n",
      "57/57 [==============================] - 2s 38ms/step - loss: 0.2842 - accuracy: 0.6281\n",
      "Epoch 21/200\n",
      "57/57 [==============================] - 2s 38ms/step - loss: 0.2803 - accuracy: 0.6317\n",
      "Epoch 22/200\n",
      "57/57 [==============================] - 2s 38ms/step - loss: 0.2711 - accuracy: 0.6416\n",
      "Epoch 23/200\n",
      "57/57 [==============================] - 2s 37ms/step - loss: 0.2633 - accuracy: 0.6506\n",
      "Epoch 24/200\n",
      "57/57 [==============================] - 2s 38ms/step - loss: 0.2545 - accuracy: 0.6616\n",
      "Epoch 25/200\n",
      "57/57 [==============================] - 2s 38ms/step - loss: 0.2526 - accuracy: 0.6654\n",
      "Epoch 26/200\n",
      "57/57 [==============================] - 2s 37ms/step - loss: 0.2442 - accuracy: 0.6714\n",
      "Epoch 27/200\n",
      "57/57 [==============================] - 2s 38ms/step - loss: 0.2389 - accuracy: 0.6820\n",
      "Epoch 28/200\n",
      "57/57 [==============================] - 2s 37ms/step - loss: 0.2304 - accuracy: 0.6901\n",
      "Epoch 29/200\n",
      "57/57 [==============================] - 2s 39ms/step - loss: 0.2236 - accuracy: 0.6993\n",
      "Epoch 30/200\n",
      "57/57 [==============================] - 2s 39ms/step - loss: 0.2163 - accuracy: 0.7078\n",
      "Epoch 31/200\n",
      "57/57 [==============================] - 2s 38ms/step - loss: 0.2135 - accuracy: 0.7131\n",
      "Epoch 32/200\n",
      "57/57 [==============================] - 2s 39ms/step - loss: 0.2075 - accuracy: 0.7199\n",
      "Epoch 33/200\n",
      "57/57 [==============================] - 2s 39ms/step - loss: 0.2006 - accuracy: 0.7285\n",
      "Epoch 34/200\n",
      "57/57 [==============================] - 2s 39ms/step - loss: 0.1981 - accuracy: 0.7317\n",
      "Epoch 35/200\n",
      "57/57 [==============================] - 2s 40ms/step - loss: 0.1922 - accuracy: 0.7398\n",
      "Epoch 36/200\n",
      "57/57 [==============================] - 2s 39ms/step - loss: 0.1827 - accuracy: 0.7522\n",
      "Epoch 37/200\n",
      "57/57 [==============================] - 2s 40ms/step - loss: 0.1733 - accuracy: 0.7621\n",
      "Epoch 38/200\n",
      "57/57 [==============================] - 2s 38ms/step - loss: 0.1744 - accuracy: 0.7626\n",
      "Epoch 39/200\n",
      "57/57 [==============================] - 2s 39ms/step - loss: 0.1693 - accuracy: 0.7667\n",
      "Epoch 40/200\n",
      "57/57 [==============================] - 2s 39ms/step - loss: 0.1602 - accuracy: 0.7819\n",
      "Epoch 41/200\n",
      "57/57 [==============================] - 2s 38ms/step - loss: 0.1574 - accuracy: 0.7842\n",
      "Epoch 42/200\n",
      "57/57 [==============================] - 2s 39ms/step - loss: 0.1548 - accuracy: 0.7890\n",
      "Epoch 43/200\n",
      "57/57 [==============================] - 2s 38ms/step - loss: 0.1522 - accuracy: 0.7906\n",
      "Epoch 44/200\n",
      "57/57 [==============================] - 2s 39ms/step - loss: 0.1405 - accuracy: 0.8068\n",
      "Epoch 45/200\n",
      "57/57 [==============================] - 2s 39ms/step - loss: 0.1437 - accuracy: 0.8022\n",
      "Epoch 46/200\n",
      "57/57 [==============================] - 2s 39ms/step - loss: 0.1337 - accuracy: 0.8169\n",
      "Epoch 47/200\n",
      "57/57 [==============================] - 2s 39ms/step - loss: 0.1313 - accuracy: 0.8188\n",
      "Epoch 48/200\n",
      "57/57 [==============================] - 2s 38ms/step - loss: 0.1269 - accuracy: 0.8245\n",
      "Epoch 49/200\n",
      "57/57 [==============================] - 2s 39ms/step - loss: 0.1223 - accuracy: 0.8311\n",
      "Epoch 50/200\n",
      "57/57 [==============================] - 2s 39ms/step - loss: 0.1181 - accuracy: 0.8374\n",
      "Epoch 51/200\n",
      "57/57 [==============================] - 2s 38ms/step - loss: 0.1126 - accuracy: 0.8452\n",
      "Epoch 52/200\n",
      "57/57 [==============================] - 2s 39ms/step - loss: 0.1151 - accuracy: 0.8402\n",
      "Epoch 53/200\n",
      "57/57 [==============================] - 2s 38ms/step - loss: 0.1060 - accuracy: 0.8506\n",
      "Epoch 54/200\n",
      "57/57 [==============================] - 2s 38ms/step - loss: 0.1023 - accuracy: 0.8585\n",
      "Epoch 55/200\n",
      "57/57 [==============================] - 2s 39ms/step - loss: 0.1026 - accuracy: 0.8594\n",
      "Epoch 56/200\n",
      "57/57 [==============================] - 2s 38ms/step - loss: 0.0944 - accuracy: 0.8696\n",
      "Epoch 57/200\n",
      "57/57 [==============================] - 2s 39ms/step - loss: 0.0945 - accuracy: 0.8674\n",
      "Epoch 58/200\n",
      "57/57 [==============================] - 2s 38ms/step - loss: 0.0930 - accuracy: 0.8710\n",
      "Epoch 59/200\n",
      "57/57 [==============================] - 2s 39ms/step - loss: 0.0905 - accuracy: 0.8768\n",
      "Epoch 60/200\n",
      "57/57 [==============================] - 2s 39ms/step - loss: 0.0865 - accuracy: 0.8797\n",
      "Epoch 61/200\n",
      "57/57 [==============================] - 2s 38ms/step - loss: 0.0871 - accuracy: 0.8808\n",
      "Epoch 62/200\n",
      "57/57 [==============================] - 2s 39ms/step - loss: 0.0805 - accuracy: 0.8894\n",
      "Epoch 63/200\n",
      "57/57 [==============================] - 2s 38ms/step - loss: 0.0807 - accuracy: 0.8878\n",
      "Epoch 64/200\n",
      "57/57 [==============================] - 2s 39ms/step - loss: 0.0762 - accuracy: 0.8958\n",
      "Epoch 65/200\n",
      "57/57 [==============================] - 2s 38ms/step - loss: 0.0742 - accuracy: 0.8967\n",
      "Epoch 66/200\n",
      "57/57 [==============================] - 2s 38ms/step - loss: 0.0741 - accuracy: 0.8978\n",
      "Epoch 67/200\n",
      "57/57 [==============================] - 2s 39ms/step - loss: 0.0685 - accuracy: 0.9056\n",
      "Epoch 68/200\n",
      "57/57 [==============================] - 2s 38ms/step - loss: 0.0659 - accuracy: 0.9087\n",
      "Epoch 69/200\n",
      "57/57 [==============================] - 2s 39ms/step - loss: 0.0670 - accuracy: 0.9083\n",
      "Epoch 70/200\n",
      "57/57 [==============================] - 2s 39ms/step - loss: 0.0634 - accuracy: 0.9146\n",
      "Epoch 71/200\n",
      "57/57 [==============================] - 2s 38ms/step - loss: 0.0625 - accuracy: 0.9140\n",
      "Epoch 72/200\n",
      "57/57 [==============================] - 2s 39ms/step - loss: 0.0615 - accuracy: 0.9169\n",
      "Epoch 73/200\n",
      "57/57 [==============================] - 2s 38ms/step - loss: 0.0597 - accuracy: 0.9184\n",
      "Epoch 74/200\n",
      "57/57 [==============================] - 2s 39ms/step - loss: 0.0552 - accuracy: 0.9237\n",
      "Epoch 75/200\n",
      "57/57 [==============================] - 2s 39ms/step - loss: 0.0554 - accuracy: 0.9232\n",
      "Epoch 76/200\n",
      "57/57 [==============================] - 2s 38ms/step - loss: 0.0540 - accuracy: 0.9260\n",
      "Epoch 77/200\n",
      "57/57 [==============================] - 2s 39ms/step - loss: 0.0531 - accuracy: 0.9265\n",
      "Epoch 78/200\n",
      "57/57 [==============================] - 2s 38ms/step - loss: 0.0508 - accuracy: 0.9301\n",
      "Epoch 79/200\n",
      "57/57 [==============================] - 2s 38ms/step - loss: 0.0540 - accuracy: 0.9268\n",
      "Epoch 80/200\n",
      "57/57 [==============================] - 2s 39ms/step - loss: 0.0511 - accuracy: 0.9299\n",
      "Epoch 81/200\n",
      "57/57 [==============================] - 2s 38ms/step - loss: 0.0469 - accuracy: 0.9358\n",
      "Epoch 82/200\n",
      "57/57 [==============================] - 2s 39ms/step - loss: 0.0475 - accuracy: 0.9356\n",
      "Epoch 83/200\n",
      "57/57 [==============================] - 2s 38ms/step - loss: 0.0472 - accuracy: 0.9356\n",
      "Epoch 84/200\n",
      "57/57 [==============================] - 2s 38ms/step - loss: 0.0495 - accuracy: 0.9343\n",
      "Epoch 85/200\n",
      "57/57 [==============================] - 2s 39ms/step - loss: 0.0449 - accuracy: 0.9382\n",
      "Epoch 86/200\n",
      "57/57 [==============================] - 2s 38ms/step - loss: 0.0436 - accuracy: 0.9411\n",
      "Epoch 87/200\n",
      "57/57 [==============================] - 2s 39ms/step - loss: 0.0419 - accuracy: 0.9425\n",
      "Epoch 88/200\n",
      "57/57 [==============================] - 2s 39ms/step - loss: 0.0411 - accuracy: 0.9445\n",
      "Epoch 89/200\n",
      "57/57 [==============================] - 2s 38ms/step - loss: 0.0419 - accuracy: 0.9415\n",
      "Epoch 90/200\n",
      "57/57 [==============================] - 2s 39ms/step - loss: 0.0412 - accuracy: 0.9435\n",
      "Epoch 91/200\n",
      "57/57 [==============================] - 2s 39ms/step - loss: 0.0401 - accuracy: 0.9453\n",
      "Epoch 92/200\n",
      "57/57 [==============================] - 2s 39ms/step - loss: 0.0423 - accuracy: 0.9432\n",
      "Epoch 93/200\n",
      "57/57 [==============================] - 2s 39ms/step - loss: 0.0385 - accuracy: 0.9495\n",
      "Epoch 94/200\n",
      "57/57 [==============================] - 2s 38ms/step - loss: 0.0350 - accuracy: 0.9531\n",
      "Epoch 95/200\n",
      "57/57 [==============================] - 2s 39ms/step - loss: 0.0365 - accuracy: 0.9512\n",
      "Epoch 96/200\n",
      "57/57 [==============================] - 2s 39ms/step - loss: 0.0340 - accuracy: 0.9539\n",
      "Epoch 97/200\n",
      "57/57 [==============================] - 2s 38ms/step - loss: 0.0347 - accuracy: 0.9521\n",
      "Epoch 98/200\n",
      "57/57 [==============================] - 2s 39ms/step - loss: 0.0350 - accuracy: 0.9520\n",
      "Epoch 99/200\n",
      "57/57 [==============================] - 2s 38ms/step - loss: 0.0334 - accuracy: 0.9563\n",
      "Epoch 100/200\n",
      "57/57 [==============================] - 2s 39ms/step - loss: 0.0340 - accuracy: 0.9538\n",
      "Epoch 101/200\n",
      "57/57 [==============================] - 2s 39ms/step - loss: 0.0342 - accuracy: 0.9538\n",
      "Epoch 102/200\n",
      "57/57 [==============================] - 2s 38ms/step - loss: 0.0303 - accuracy: 0.9584\n",
      "Epoch 103/200\n",
      "57/57 [==============================] - 2s 39ms/step - loss: 0.0338 - accuracy: 0.9555\n",
      "Epoch 104/200\n",
      "57/57 [==============================] - 2s 38ms/step - loss: 0.0344 - accuracy: 0.9547\n",
      "Epoch 105/200\n",
      "57/57 [==============================] - 2s 39ms/step - loss: 0.0316 - accuracy: 0.9583\n",
      "Epoch 106/200\n",
      "57/57 [==============================] - 2s 39ms/step - loss: 0.0326 - accuracy: 0.9562\n",
      "Epoch 107/200\n",
      "57/57 [==============================] - 2s 38ms/step - loss: 0.0291 - accuracy: 0.9603\n",
      "Epoch 108/200\n",
      "57/57 [==============================] - 2s 39ms/step - loss: 0.0295 - accuracy: 0.9599\n",
      "Epoch 109/200\n",
      "57/57 [==============================] - 2s 39ms/step - loss: 0.0290 - accuracy: 0.9611\n",
      "Epoch 110/200\n",
      "57/57 [==============================] - 2s 39ms/step - loss: 0.0300 - accuracy: 0.9610\n",
      "Epoch 111/200\n",
      "57/57 [==============================] - 2s 39ms/step - loss: 0.0285 - accuracy: 0.9614\n",
      "Epoch 112/200\n",
      "57/57 [==============================] - 2s 38ms/step - loss: 0.0276 - accuracy: 0.9622\n",
      "Epoch 113/200\n",
      "57/57 [==============================] - 2s 38ms/step - loss: 0.0294 - accuracy: 0.9597\n",
      "Epoch 114/200\n",
      "57/57 [==============================] - 2s 39ms/step - loss: 0.0259 - accuracy: 0.9656\n",
      "Epoch 115/200\n",
      "57/57 [==============================] - 2s 38ms/step - loss: 0.0273 - accuracy: 0.9630\n",
      "Epoch 116/200\n",
      "57/57 [==============================] - 2s 39ms/step - loss: 0.0244 - accuracy: 0.9673\n",
      "Epoch 117/200\n",
      "57/57 [==============================] - 2s 39ms/step - loss: 0.0276 - accuracy: 0.9635\n",
      "Epoch 118/200\n",
      "57/57 [==============================] - 2s 38ms/step - loss: 0.0259 - accuracy: 0.9657\n",
      "Epoch 119/200\n",
      "57/57 [==============================] - 2s 39ms/step - loss: 0.0239 - accuracy: 0.9679\n",
      "Epoch 120/200\n",
      "57/57 [==============================] - 2s 38ms/step - loss: 0.0255 - accuracy: 0.9651\n",
      "Epoch 121/200\n",
      "57/57 [==============================] - 2s 38ms/step - loss: 0.0267 - accuracy: 0.9647\n",
      "Epoch 122/200\n",
      "57/57 [==============================] - 2s 39ms/step - loss: 0.0232 - accuracy: 0.9680\n",
      "Epoch 123/200\n",
      "57/57 [==============================] - 2s 38ms/step - loss: 0.0238 - accuracy: 0.9689\n",
      "Epoch 124/200\n",
      "57/57 [==============================] - 2s 39ms/step - loss: 0.0243 - accuracy: 0.9679\n",
      "Epoch 125/200\n",
      "57/57 [==============================] - 2s 40ms/step - loss: 0.0228 - accuracy: 0.9692\n",
      "Epoch 126/200\n",
      "57/57 [==============================] - 2s 38ms/step - loss: 0.0233 - accuracy: 0.9683\n",
      "Epoch 127/200\n",
      "57/57 [==============================] - 2s 39ms/step - loss: 0.0224 - accuracy: 0.9698\n",
      "Epoch 128/200\n",
      "57/57 [==============================] - 2s 39ms/step - loss: 0.0242 - accuracy: 0.9671\n",
      "Epoch 129/200\n",
      "57/57 [==============================] - 2s 38ms/step - loss: 0.0243 - accuracy: 0.9672\n",
      "Epoch 130/200\n",
      "57/57 [==============================] - 2s 39ms/step - loss: 0.0214 - accuracy: 0.9709\n",
      "Epoch 131/200\n",
      "57/57 [==============================] - 2s 40ms/step - loss: 0.0216 - accuracy: 0.9711\n",
      "Epoch 132/200\n",
      "57/57 [==============================] - 2s 38ms/step - loss: 0.0216 - accuracy: 0.9706\n",
      "Epoch 133/200\n",
      "57/57 [==============================] - 2s 39ms/step - loss: 0.0220 - accuracy: 0.9701\n",
      "Epoch 134/200\n",
      "57/57 [==============================] - 2s 39ms/step - loss: 0.0222 - accuracy: 0.9708\n",
      "Epoch 135/200\n",
      "57/57 [==============================] - 2s 38ms/step - loss: 0.0195 - accuracy: 0.9737\n",
      "Epoch 136/200\n",
      "57/57 [==============================] - 2s 39ms/step - loss: 0.0206 - accuracy: 0.9723\n",
      "Epoch 137/200\n",
      "57/57 [==============================] - 2s 39ms/step - loss: 0.0219 - accuracy: 0.9703\n",
      "Epoch 138/200\n",
      "57/57 [==============================] - 2s 38ms/step - loss: 0.0222 - accuracy: 0.9695\n",
      "Epoch 139/200\n",
      "57/57 [==============================] - 2s 39ms/step - loss: 0.0195 - accuracy: 0.9739\n",
      "Epoch 140/200\n",
      "57/57 [==============================] - 2s 38ms/step - loss: 0.0204 - accuracy: 0.9743\n",
      "Epoch 141/200\n",
      "57/57 [==============================] - 2s 38ms/step - loss: 0.0213 - accuracy: 0.9720\n",
      "Epoch 142/200\n",
      "57/57 [==============================] - 2s 39ms/step - loss: 0.0191 - accuracy: 0.9749\n",
      "Epoch 143/200\n",
      "57/57 [==============================] - 2s 43ms/step - loss: 0.0204 - accuracy: 0.9731\n",
      "Epoch 144/200\n",
      "57/57 [==============================] - 2s 39ms/step - loss: 0.0201 - accuracy: 0.9734\n",
      "Epoch 145/200\n",
      "57/57 [==============================] - 2s 42ms/step - loss: 0.0195 - accuracy: 0.9741\n",
      "Epoch 146/200\n",
      "57/57 [==============================] - 2s 42ms/step - loss: 0.0195 - accuracy: 0.9748\n",
      "Epoch 147/200\n",
      "57/57 [==============================] - 2s 40ms/step - loss: 0.0197 - accuracy: 0.9734\n",
      "Epoch 148/200\n",
      "57/57 [==============================] - 2s 42ms/step - loss: 0.0193 - accuracy: 0.9747\n",
      "Epoch 149/200\n",
      "57/57 [==============================] - 2s 41ms/step - loss: 0.0189 - accuracy: 0.9747\n",
      "Epoch 150/200\n",
      "57/57 [==============================] - 2s 40ms/step - loss: 0.0171 - accuracy: 0.9771\n",
      "Epoch 151/200\n",
      "57/57 [==============================] - 2s 41ms/step - loss: 0.0198 - accuracy: 0.9743\n",
      "Epoch 152/200\n",
      "57/57 [==============================] - 2s 41ms/step - loss: 0.0182 - accuracy: 0.9758\n",
      "Epoch 153/200\n",
      "57/57 [==============================] - 2s 39ms/step - loss: 0.0195 - accuracy: 0.9742\n",
      "Epoch 154/200\n",
      "57/57 [==============================] - 2s 40ms/step - loss: 0.0178 - accuracy: 0.9762\n",
      "Epoch 155/200\n",
      "57/57 [==============================] - 2s 40ms/step - loss: 0.0200 - accuracy: 0.9741\n",
      "Epoch 156/200\n",
      "57/57 [==============================] - 2s 39ms/step - loss: 0.0164 - accuracy: 0.9770\n",
      "Epoch 157/200\n",
      "57/57 [==============================] - 2s 40ms/step - loss: 0.0177 - accuracy: 0.9758\n",
      "Epoch 158/200\n",
      "57/57 [==============================] - 2s 39ms/step - loss: 0.0163 - accuracy: 0.9777\n",
      "Epoch 159/200\n",
      "57/57 [==============================] - 2s 40ms/step - loss: 0.0167 - accuracy: 0.9774\n",
      "Epoch 160/200\n",
      "57/57 [==============================] - 2s 40ms/step - loss: 0.0180 - accuracy: 0.9775\n",
      "Epoch 161/200\n",
      "57/57 [==============================] - 2s 39ms/step - loss: 0.0191 - accuracy: 0.9748\n",
      "Epoch 162/200\n",
      "57/57 [==============================] - 2s 39ms/step - loss: 0.0177 - accuracy: 0.9769\n",
      "Epoch 163/200\n",
      "57/57 [==============================] - 2s 39ms/step - loss: 0.0175 - accuracy: 0.9771\n",
      "Epoch 164/200\n",
      "57/57 [==============================] - 2s 39ms/step - loss: 0.0160 - accuracy: 0.9789\n",
      "Epoch 165/200\n",
      "57/57 [==============================] - 2s 39ms/step - loss: 0.0179 - accuracy: 0.9778\n",
      "Epoch 166/200\n",
      "57/57 [==============================] - 2s 39ms/step - loss: 0.0168 - accuracy: 0.9777\n",
      "Epoch 167/200\n",
      "57/57 [==============================] - 2s 39ms/step - loss: 0.0182 - accuracy: 0.9766\n",
      "Epoch 168/200\n",
      "57/57 [==============================] - 2s 39ms/step - loss: 0.0158 - accuracy: 0.9798\n",
      "Epoch 169/200\n",
      "57/57 [==============================] - 2s 40ms/step - loss: 0.0164 - accuracy: 0.9787\n",
      "Epoch 170/200\n",
      "57/57 [==============================] - 2s 38ms/step - loss: 0.0147 - accuracy: 0.9814\n",
      "Epoch 171/200\n",
      "57/57 [==============================] - 2s 40ms/step - loss: 0.0162 - accuracy: 0.9791\n",
      "Epoch 172/200\n",
      "57/57 [==============================] - 2s 40ms/step - loss: 0.0162 - accuracy: 0.9789\n",
      "Epoch 173/200\n",
      "57/57 [==============================] - 2s 39ms/step - loss: 0.0149 - accuracy: 0.9798\n",
      "Epoch 174/200\n",
      "57/57 [==============================] - 2s 40ms/step - loss: 0.0159 - accuracy: 0.9798\n",
      "Epoch 175/200\n",
      "57/57 [==============================] - 2s 39ms/step - loss: 0.0154 - accuracy: 0.9804\n",
      "Epoch 176/200\n",
      "57/57 [==============================] - 2s 39ms/step - loss: 0.0152 - accuracy: 0.9800\n",
      "Epoch 177/200\n",
      "57/57 [==============================] - 2s 39ms/step - loss: 0.0158 - accuracy: 0.9794\n",
      "Epoch 178/200\n",
      "57/57 [==============================] - 2s 39ms/step - loss: 0.0163 - accuracy: 0.9782\n",
      "Epoch 179/200\n",
      "57/57 [==============================] - 2s 38ms/step - loss: 0.0145 - accuracy: 0.9816\n",
      "Epoch 180/200\n",
      "57/57 [==============================] - 2s 39ms/step - loss: 0.0138 - accuracy: 0.9814\n",
      "Epoch 181/200\n",
      "57/57 [==============================] - 2s 39ms/step - loss: 0.0152 - accuracy: 0.9791\n",
      "Epoch 182/200\n",
      "57/57 [==============================] - 2s 39ms/step - loss: 0.0145 - accuracy: 0.9803\n",
      "Epoch 183/200\n",
      "57/57 [==============================] - 2s 40ms/step - loss: 0.0145 - accuracy: 0.9808\n",
      "Epoch 184/200\n",
      "57/57 [==============================] - 2s 40ms/step - loss: 0.0145 - accuracy: 0.9818\n",
      "Epoch 185/200\n",
      "57/57 [==============================] - 2s 39ms/step - loss: 0.0144 - accuracy: 0.9817\n",
      "Epoch 186/200\n",
      "57/57 [==============================] - 2s 40ms/step - loss: 0.0146 - accuracy: 0.9804\n",
      "Epoch 187/200\n",
      "57/57 [==============================] - 2s 40ms/step - loss: 0.0159 - accuracy: 0.9791\n",
      "Epoch 188/200\n",
      "57/57 [==============================] - 2s 39ms/step - loss: 0.0152 - accuracy: 0.9794\n",
      "Epoch 189/200\n",
      "57/57 [==============================] - 2s 39ms/step - loss: 0.0142 - accuracy: 0.9814\n",
      "Epoch 190/200\n",
      "57/57 [==============================] - 2s 40ms/step - loss: 0.0161 - accuracy: 0.9790\n",
      "Epoch 191/200\n",
      "57/57 [==============================] - 2s 39ms/step - loss: 0.0147 - accuracy: 0.9817\n",
      "Epoch 192/200\n",
      "57/57 [==============================] - 2s 39ms/step - loss: 0.0136 - accuracy: 0.9828\n",
      "Epoch 193/200\n",
      "57/57 [==============================] - 2s 40ms/step - loss: 0.0132 - accuracy: 0.9829\n",
      "Epoch 194/200\n",
      "57/57 [==============================] - 2s 39ms/step - loss: 0.0126 - accuracy: 0.9835\n",
      "Epoch 195/200\n",
      "57/57 [==============================] - 2s 39ms/step - loss: 0.0142 - accuracy: 0.9825\n",
      "Epoch 196/200\n",
      "57/57 [==============================] - 2s 40ms/step - loss: 0.0130 - accuracy: 0.9825\n",
      "Epoch 197/200\n",
      "57/57 [==============================] - 2s 40ms/step - loss: 0.0152 - accuracy: 0.9804\n",
      "Epoch 198/200\n",
      "57/57 [==============================] - 2s 39ms/step - loss: 0.0128 - accuracy: 0.9831\n",
      "Epoch 199/200\n",
      "57/57 [==============================] - 2s 40ms/step - loss: 0.0123 - accuracy: 0.9835\n",
      "Epoch 200/200\n",
      "57/57 [==============================] - 2s 40ms/step - loss: 0.0136 - accuracy: 0.9833\n"
     ]
    },
    {
     "data": {
      "text/plain": [
       "<keras.callbacks.History at 0x7fbe0d05e890>"
      ]
     },
     "execution_count": 223,
     "metadata": {},
     "output_type": "execute_result"
    }
   ],
   "source": [
    "transformer.compile(\n",
    "    \"rmsprop\", loss=\"sparse_categorical_crossentropy\", metrics=[\"accuracy\"]\n",
    ")\n",
    "transformer.fit(train_ds, epochs=200)"
   ]
  },
  {
   "cell_type": "code",
   "execution_count": 224,
   "metadata": {},
   "outputs": [],
   "source": [
    "max_decoded_sentence_length = 200\n",
    "def apply_transformer(input_vectorized):\n",
    "    input_vectorized = tf.convert_to_tensor([input_vectorized])\n",
    "    decoded_sentence = [\"[start]\"]\n",
    "    y_index_lookup = word2vec_y.wv.index_to_key\n",
    "    for i in range(max_decoded_sentence_length):\n",
    "        tokenized_target_sentence = vectorize_ds([decoded_sentence], word2vec_y, sequence_length=sequence_length_X)\n",
    "        tokenized_target_sentence = tf.convert_to_tensor(tokenized_target_sentence)\n",
    "        y_pred = transformer([input_vectorized, tokenized_target_sentence])[0,i,:]\n",
    "        y_index = np.argmax(y_pred) - 1\n",
    "        y = y_index_lookup[y_index]\n",
    "        decoded_sentence = decoded_sentence + [y]\n",
    "\n",
    "        if y == \"[end]\":\n",
    "            break\n",
    "    return  decoded_sentence"
   ]
  },
  {
   "cell_type": "code",
   "execution_count": 225,
   "metadata": {},
   "outputs": [],
   "source": [
    "y_train_pred = [apply_transformer(x) for x in X_vectorized_train[0:10]]"
   ]
  },
  {
   "cell_type": "code",
   "execution_count": 226,
   "metadata": {},
   "outputs": [],
   "source": [
    "y_test_pred = [apply_transformer(x) for x in X_vectorized_test]"
   ]
  },
  {
   "cell_type": "code",
   "execution_count": 227,
   "metadata": {},
   "outputs": [
    {
     "data": {
      "text/plain": [
       "['[start]', 'tan', \"Symbol('d')\", '[end]']"
      ]
     },
     "execution_count": 227,
     "metadata": {},
     "output_type": "execute_result"
    }
   ],
   "source": [
    "y_test_pred[0]"
   ]
  },
  {
   "cell_type": "code",
   "execution_count": 228,
   "metadata": {},
   "outputs": [
    {
     "data": {
      "text/plain": [
       "['[start]', 'tan', \"Symbol('d')\", '[end]']"
      ]
     },
     "execution_count": 228,
     "metadata": {},
     "output_type": "execute_result"
    }
   ],
   "source": [
    "y_taylor_tokenized_str_test[0]"
   ]
  },
  {
   "cell_type": "code",
   "execution_count": 230,
   "metadata": {},
   "outputs": [],
   "source": [
    "def token_accuracy(y_true, y_pred, verbose=0):\n",
    "    \"\"\"\n",
    "    compare two arrays and check how many entries are the same at the same position\n",
    "    \"\"\"\n",
    "    max_ind = np.min([len(y_true), len(y_pred)])\n",
    "    correct_ctr = 0\n",
    "    # ignore [start] and [end]\n",
    "    max_correct = len(y_pred) - 2\n",
    "    for i in range(1, max_ind-1):\n",
    "        if verbose: ic([y_true[i], y_pred[i]])\n",
    "        if y_true[i] == y_pred[i]:\n",
    "            correct_ctr += 1\n",
    "    return correct_ctr / max_correct\n"
   ]
  },
  {
   "cell_type": "code",
   "execution_count": 231,
   "metadata": {},
   "outputs": [
    {
     "name": "stderr",
     "output_type": "stream",
     "text": [
      "ic| [y_true[i], y_pred[i]]: [\"<'sympy.core.add.Add'>\", \"<'sympy.core.add.Add'>\"]\n",
      "ic| [y_true[i], y_pred[i]]: [\"Symbol('c')\", \"Symbol('c')\"]\n",
      "ic| [y_true[i], y_pred[i]]: [\"<'sympy.core.mul.Mul'>\", \"Symbol('x')\"]\n",
      "ic| [y_true[i], y_pred[i]]: ['Integer(2)', \"<'sympy.core.mul.Mul'>\"]\n",
      "ic| [y_true[i], y_pred[i]]: [\"Symbol('x')\", 'Integer(2)']\n",
      "ic| [y_true[i], y_pred[i]]: [\"<'sympy.core.mul.Mul'>\", \"Symbol('d')\"]\n"
     ]
    },
    {
     "data": {
      "text/plain": [
       "0.3333333333333333"
      ]
     },
     "execution_count": 231,
     "metadata": {},
     "output_type": "execute_result"
    }
   ],
   "source": [
    "token_accuracy(y_test_pred[2], y_taylor_tokenized_str_test[2], verbose=1)"
   ]
  },
  {
   "cell_type": "code",
   "execution_count": 233,
   "metadata": {},
   "outputs": [
    {
     "data": {
      "text/plain": [
       "0.3914166812749736"
      ]
     },
     "execution_count": 233,
     "metadata": {},
     "output_type": "execute_result"
    }
   ],
   "source": [
    "accuracy_per_function = [token_accuracy(y_true, y_pred) for y_true, y_pred in zip(y_taylor_tokenized_str_test, y_test_pred)]\n",
    "np.mean(accuracy_per_function)"
   ]
  },
  {
   "cell_type": "code",
   "execution_count": 234,
   "metadata": {},
   "outputs": [
    {
     "data": {
      "text/plain": [
       "array([1.  , 0.06, 0.2 , 0.43, 0.06, 0.05, 0.11, 0.8 , 0.03, 1.  , 1.  ,\n",
       "       1.  , 0.09, 1.  , 0.18, 1.  , 0.15, 0.02, 0.04, 0.  , 0.03, 0.08,\n",
       "       0.25, 0.43, 0.09, 1.  , 0.08, 1.  , 1.  , 0.12, 1.  , 0.02, 0.21,\n",
       "       1.  , 0.09, 0.03, 0.06, 0.09, 0.36, 0.13, 0.33, 0.1 , 0.18, 0.09,\n",
       "       0.01, 1.  , 0.06, 1.  , 1.  , 1.  , 0.63, 0.06, 0.11, 0.28, 1.  ,\n",
       "       0.03, 0.23, 1.  , 0.01, 0.26, 0.16, 1.  , 0.08, 1.  , 0.8 , 0.13,\n",
       "       1.  , 0.18, 0.02, 0.11, 1.  , 0.25, 0.86, 0.2 , 0.13, 1.  , 0.09,\n",
       "       0.08, 0.  , 0.1 , 1.  , 0.06, 0.07, 0.12, 0.08, 0.09, 0.19, 0.01,\n",
       "       0.7 , 0.18, 0.37, 1.  , 0.04, 1.  , 1.  , 0.18, 0.7 , 0.05, 0.03,\n",
       "       0.4 ])"
      ]
     },
     "execution_count": 234,
     "metadata": {},
     "output_type": "execute_result"
    }
   ],
   "source": [
    "np.round(np.array(accuracy_per_function), 2)"
   ]
  },
  {
   "cell_type": "markdown",
   "metadata": {},
   "source": [
    "# Polish notation -> back to sympy expressions"
   ]
  },
  {
   "cell_type": "code",
   "execution_count": null,
   "metadata": {},
   "outputs": [],
   "source": [
    "def str_to_sympy(s):\n",
    "    if s[0] == '<':\n",
    "        s = s[1:-1]\n",
    "        return eval(eval(s))\n",
    "    return eval(s)"
   ]
  },
  {
   "cell_type": "code",
   "execution_count": 196,
   "metadata": {},
   "outputs": [
    {
     "data": {
      "text/plain": [
       "[sympy.core.add.Add, c, x, sympy.core.mul.Mul, 2, d]"
      ]
     },
     "execution_count": 196,
     "metadata": {},
     "output_type": "execute_result"
    }
   ],
   "source": [
    "tmp = [str_to_sympy(x) for x in y_taylor_tokenized_str_test[2][1:-1]]\n",
    "tmp"
   ]
  },
  {
   "cell_type": "code",
   "execution_count": 197,
   "metadata": {},
   "outputs": [
    {
     "data": {
      "text/latex": [
       "$\\displaystyle c + 2 d + x$"
      ],
      "text/plain": [
       "c + 2*d + x"
      ]
     },
     "execution_count": 197,
     "metadata": {},
     "output_type": "execute_result"
    }
   ],
   "source": [
    "y_taylor_test[2]"
   ]
  },
  {
   "cell_type": "code",
   "execution_count": 198,
   "metadata": {},
   "outputs": [],
   "source": [
    "def prefix_to_infix(ls):\n",
    "    \"\"\" not working \"\"\"\n",
    "    i = -1\n",
    "    token = ls[i]\n",
    "    not_operator_list = [sympy.core.numbers.Rational, sympy.core.numbers.Float, sympy.core.numbers.Integer,\n",
    "    sympy.core.symbol.Symbol]\n",
    "    while type(token) in not_operator_list:\n",
    "        i = i - 1\n",
    "        token = ls[i]\n",
    "    return token(ls[i+1], ls[i+2])"
   ]
  },
  {
   "cell_type": "code",
   "execution_count": 199,
   "metadata": {},
   "outputs": [
    {
     "data": {
      "text/latex": [
       "$\\displaystyle 2 d$"
      ],
      "text/plain": [
       "2*d"
      ]
     },
     "execution_count": 199,
     "metadata": {},
     "output_type": "execute_result"
    }
   ],
   "source": [
    "prefix_to_infix(tmp)"
   ]
  },
  {
   "cell_type": "markdown",
   "metadata": {},
   "source": [
    "I think the sympy syntax is not well suited for polish notation, since the number of arguments a function takes is not well defined. E.g. `sympy.core.add.Add` can take any number of arguments:"
   ]
  },
  {
   "cell_type": "code",
   "execution_count": 204,
   "metadata": {},
   "outputs": [
    {
     "data": {
      "text/latex": [
       "$\\displaystyle x$"
      ],
      "text/plain": [
       "x"
      ]
     },
     "execution_count": 204,
     "metadata": {},
     "output_type": "execute_result"
    }
   ],
   "source": [
    "Add(Symbol(\"x\"))"
   ]
  },
  {
   "cell_type": "code",
   "execution_count": 202,
   "metadata": {},
   "outputs": [
    {
     "data": {
      "text/latex": [
       "$\\displaystyle x + y$"
      ],
      "text/plain": [
       "x + y"
      ]
     },
     "execution_count": 202,
     "metadata": {},
     "output_type": "execute_result"
    }
   ],
   "source": [
    "Add(Symbol(\"x\"), Symbol(\"y\"))"
   ]
  },
  {
   "cell_type": "code",
   "execution_count": 203,
   "metadata": {},
   "outputs": [
    {
     "data": {
      "text/latex": [
       "$\\displaystyle x + y + z$"
      ],
      "text/plain": [
       "x + y + z"
      ]
     },
     "execution_count": 203,
     "metadata": {},
     "output_type": "execute_result"
    }
   ],
   "source": [
    "Add(Symbol(\"x\"), Symbol(\"y\"), Symbol(\"z\"))"
   ]
  }
 ],
 "metadata": {
  "interpreter": {
   "hash": "68a305c3bb66dc100fb8abae87d111d7cb4359f8d5378146abd832e466566bba"
  },
  "kernelspec": {
   "display_name": "Python 3.10.4 ('RandomFunctionGenerator')",
   "language": "python",
   "name": "python3"
  },
  "language_info": {
   "codemirror_mode": {
    "name": "ipython",
    "version": 3
   },
   "file_extension": ".py",
   "mimetype": "text/x-python",
   "name": "python",
   "nbconvert_exporter": "python",
   "pygments_lexer": "ipython3",
   "version": "3.10.4"
  },
  "orig_nbformat": 4
 },
 "nbformat": 4,
 "nbformat_minor": 2
}
