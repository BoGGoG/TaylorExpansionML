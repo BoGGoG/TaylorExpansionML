{
 "cells": [
  {
   "cell_type": "markdown",
   "source": [
    "# Prefix Notation\n",
    "In this notebook I show off the notation that will be used for encoding mathematical formulas."
   ],
   "metadata": {
    "collapsed": false,
    "pycharm": {
     "name": "#%% md\n"
    }
   }
  },
  {
   "cell_type": "code",
   "execution_count": 1,
   "outputs": [],
   "source": [
    "import numpy as np\n",
    "import sympy as sp\n",
    "from sympy import sympify, srepr\n",
    "import os\n",
    "from icecream import ic"
   ],
   "metadata": {
    "collapsed": false,
    "pycharm": {
     "name": "#%%\n"
    }
   }
  },
  {
   "cell_type": "code",
   "execution_count": 2,
   "outputs": [],
   "source": [
    "os.chdir(\"..\")"
   ],
   "metadata": {
    "collapsed": false,
    "pycharm": {
     "name": "#%%\n"
    }
   }
  },
  {
   "cell_type": "code",
   "execution_count": 3,
   "outputs": [],
   "source": [
    "from source.data_preparation import sympy_to_prefix, prefix_to_sympy"
   ],
   "metadata": {
    "collapsed": false,
    "pycharm": {
     "name": "#%%\n"
    }
   }
  },
  {
   "cell_type": "markdown",
   "source": [
    "TLDR: sympy <--> prefix notation\n",
    "example:"
   ],
   "metadata": {
    "collapsed": false,
    "pycharm": {
     "name": "#%% md\n"
    }
   }
  },
  {
   "cell_type": "code",
   "execution_count": 4,
   "outputs": [
    {
     "name": "stdout",
     "output_type": "stream",
     "text": [
      "['add', 'int', 's+', '2', 'sin', 'pow', 'x', 'int', 's+', '2']\n",
      "prefix -> sympy correct? True\n"
     ]
    }
   ],
   "source": [
    "expr_str = \"2 + sin(x**2)\"\n",
    "expr_sp = sympify(expr_str)\n",
    "expr_prefix = sympy_to_prefix(expr_sp)\n",
    "print(expr_prefix)\n",
    "\n",
    "# recovering original sympy expression:\n",
    "print(\"prefix -> sympy correct?\", expr_sp == prefix_to_sympy(expr_prefix))"
   ],
   "metadata": {
    "collapsed": false,
    "pycharm": {
     "name": "#%%\n"
    }
   }
  },
  {
   "cell_type": "markdown",
   "source": [
    "Let's start with a simply sympy function"
   ],
   "metadata": {
    "collapsed": false,
    "pycharm": {
     "name": "#%% md\n"
    }
   }
  },
  {
   "cell_type": "code",
   "execution_count": 5,
   "outputs": [
    {
     "name": "stdout",
     "output_type": "stream",
     "text": [
      "x + sin(y)\n",
      "Add(Symbol('x'), sin(Symbol('y')))\n"
     ]
    }
   ],
   "source": [
    "expr1 = sympify(\"x + sin(y)\")\n",
    "print(expr1)\n",
    "print(srepr(expr1))"
   ],
   "metadata": {
    "collapsed": false,
    "pycharm": {
     "name": "#%%\n"
    }
   }
  },
  {
   "cell_type": "markdown",
   "source": [
    "The prefix notation can be calculated with the function `sympy_to_prefix`"
   ],
   "metadata": {
    "collapsed": false,
    "pycharm": {
     "name": "#%% md\n"
    }
   }
  },
  {
   "cell_type": "code",
   "execution_count": 6,
   "outputs": [
    {
     "data": {
      "text/plain": "['add', 'x', 'sin', 'y']"
     },
     "execution_count": 6,
     "metadata": {},
     "output_type": "execute_result"
    }
   ],
   "source": [
    "expr1_prefix = sympy_to_prefix(expr1)\n",
    "expr1_prefix"
   ],
   "metadata": {
    "collapsed": false,
    "pycharm": {
     "name": "#%%\n"
    }
   }
  },
  {
   "cell_type": "markdown",
   "source": [
    "Integers are encoded in the form `['int', 'sign token', '1', '3', ...]`"
   ],
   "metadata": {
    "collapsed": false,
    "pycharm": {
     "name": "#%% md\n"
    }
   }
  },
  {
   "cell_type": "code",
   "execution_count": 7,
   "outputs": [
    {
     "name": "stdout",
     "output_type": "stream",
     "text": [
      "['int', 's+', '1', '2', '3', '4', '5']\n",
      "['int', 's-', '1', '2', '3', '4', '5']\n"
     ]
    }
   ],
   "source": [
    "expr2 = sympify(\"12345\")\n",
    "expr2_prefix = sympy_to_prefix(expr2)\n",
    "\n",
    "expr3 = sympify(\"-12345\")\n",
    "expr3_prefix = sympy_to_prefix(expr3)\n",
    "print(expr2_prefix)\n",
    "print(expr3_prefix)"
   ],
   "metadata": {
    "collapsed": false,
    "pycharm": {
     "name": "#%%\n"
    }
   }
  },
  {
   "cell_type": "markdown",
   "source": [
    "More examples:"
   ],
   "metadata": {
    "collapsed": false,
    "pycharm": {
     "name": "#%% md\n"
    }
   }
  },
  {
   "cell_type": "code",
   "execution_count": 8,
   "outputs": [
    {
     "name": "stdout",
     "output_type": "stream",
     "text": [
      "['add', 'x', 'mul', 'int', 's+', '1', '3', 'y']\n",
      "['add', 'exp', 'cos', 'mul', 'int', 's+', '4', '2', 'abs', 'pow', 'x', 'int', 's+', '4', 'sin', 'pow', 'x', 'int', 's+', '2']\n",
      "['mul', 'mul', 'int', 's+', '1', 'pow', 'int', 's+', '3', '2', 'int', 's-', '1', 'mul', 'x', 'pow', 'y', 'int', 's-', '1']\n",
      "['exp', 'mul', 'mul', 'int', 's-', '1', 'pow', 'int', 's+', '2', 'int', 's-', '1', 'pow', 'x', 'int', 's+', '2']\n"
     ]
    }
   ],
   "source": [
    "expr4 = sympify(\"x + 13*y\")\n",
    "expr5 = sympify(\"sin(x**2) + exp(cos(abs(42*x**4)))\")\n",
    "expr6 = sympify(\"x/(32*y)\")\n",
    "expr7 = sympify(\"exp(-x**2 / 2)\")\n",
    "\n",
    "print(sympy_to_prefix(expr4))\n",
    "print(sympy_to_prefix(expr5))\n",
    "print(sympy_to_prefix(expr6))\n",
    "print(sympy_to_prefix(expr7))\n"
   ],
   "metadata": {
    "collapsed": false,
    "pycharm": {
     "name": "#%%\n"
    }
   }
  },
  {
   "cell_type": "markdown",
   "source": [
    "Unfortunately there is no `div` operator in sympy and every division is represented by multiplication with the inverse.\n",
    "This makes sense for a computer algebra system of course, but the prefix notation becomes much larger. It might be good to implement `div` at some point here."
   ],
   "metadata": {
    "collapsed": false,
    "pycharm": {
     "name": "#%% md\n"
    }
   }
  },
  {
   "cell_type": "code",
   "execution_count": 9,
   "outputs": [
    {
     "data": {
      "text/plain": "['mul', 'int', 's+', '1', 'pow', 'int', 's+', '2', 'int', 's-', '1']"
     },
     "execution_count": 9,
     "metadata": {},
     "output_type": "execute_result"
    }
   ],
   "source": [
    "expr7 = sympify(\"1/2\")\n",
    "sympy_to_prefix(expr7)"
   ],
   "metadata": {
    "collapsed": false,
    "pycharm": {
     "name": "#%%\n"
    }
   }
  },
  {
   "cell_type": "code",
   "execution_count": 10,
   "outputs": [
    {
     "data": {
      "text/plain": "['mul', 'int', 's+', '1', 'pow', 'int', 's+', '3', 'int', 's-', '1']"
     },
     "execution_count": 10,
     "metadata": {},
     "output_type": "execute_result"
    }
   ],
   "source": [
    "expr8 = sympify(\"1/3\")\n",
    "sympy_to_prefix(expr8)"
   ],
   "metadata": {
    "collapsed": false,
    "pycharm": {
     "name": "#%%\n"
    }
   }
  }
 ],
 "metadata": {
  "kernelspec": {
   "display_name": "Python 3",
   "language": "python",
   "name": "python3"
  },
  "language_info": {
   "codemirror_mode": {
    "name": "ipython",
    "version": 2
   },
   "file_extension": ".py",
   "mimetype": "text/x-python",
   "name": "python",
   "nbconvert_exporter": "python",
   "pygments_lexer": "ipython2",
   "version": "2.7.6"
  }
 },
 "nbformat": 4,
 "nbformat_minor": 0
}