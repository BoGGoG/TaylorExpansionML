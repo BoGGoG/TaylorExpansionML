{
 "cells": [
  {
   "cell_type": "code",
   "execution_count": 1,
   "outputs": [],
   "source": [
    "import numpy as np\n",
    "import sympy as sp\n",
    "from sympy import sympify, srepr\n",
    "import os\n",
    "from icecream import ic\n",
    "import random\n",
    "\n",
    "os.chdir(\"..\")\n",
    "from source.data_preparation import sympy_to_prefix, prefix_to_sympy, vectorize_ds, vectorize_sentence, pad_right\n",
    "import tqdm"
   ],
   "metadata": {
    "collapsed": false,
    "pycharm": {
     "name": "#%%\n"
    }
   }
  },
  {
   "cell_type": "code",
   "execution_count": 10,
   "outputs": [],
   "source": [
    "from tqdm.notebook import trange, tqdm"
   ],
   "metadata": {
    "collapsed": false,
    "pycharm": {
     "name": "#%%\n"
    }
   }
  },
  {
   "cell_type": "code",
   "execution_count": 2,
   "outputs": [
    {
     "name": "stderr",
     "output_type": "stream",
     "text": [
      "2022-05-30 10:05:17.968567: I tensorflow/core/util/util.cc:169] oneDNN custom operations are on. You may see slightly different numerical results due to floating-point round-off errors from different computation orders. To turn them off, set the environment variable `TF_ENABLE_ONEDNN_OPTS=0`.\n",
      "2022-05-30 10:05:17.971049: W tensorflow/stream_executor/platform/default/dso_loader.cc:64] Could not load dynamic library 'libcudart.so.11.0'; dlerror: libcudart.so.11.0: cannot open shared object file: No such file or directory\n",
      "2022-05-30 10:05:17.971058: I tensorflow/stream_executor/cuda/cudart_stub.cc:29] Ignore above cudart dlerror if you do not have a GPU set up on your machine.\n"
     ]
    }
   ],
   "source": [
    "import tensorflow as tf\n",
    "from tensorflow.keras.layers import TextVectorization\n",
    "from tensorflow.keras.preprocessing.text import Tokenizer\n",
    "from tensorflow import keras\n",
    "from tensorflow.keras import layers"
   ],
   "metadata": {
    "collapsed": false,
    "pycharm": {
     "name": "#%%\n"
    }
   }
  },
  {
   "cell_type": "code",
   "execution_count": 3,
   "outputs": [],
   "source": [
    "from gensim.models import Word2Vec\n",
    "from icecream import ic"
   ],
   "metadata": {
    "collapsed": false,
    "pycharm": {
     "name": "#%%\n"
    }
   }
  },
  {
   "cell_type": "code",
   "execution_count": 4,
   "outputs": [],
   "source": [
    "data_file = \"data.nosync/data.txt\"\n",
    "taylor_file = \"data.nosync/data_taylor.txt\"\n",
    "coeffs_file = \"data.nosync/data_coeffs.txt\"\n",
    "\n",
    "start = [\"[start]\"]\n",
    "end = [\"[end]\"]\n",
    "\n",
    "with open(data_file) as f:\n",
    "    X = f.read().split(\"\\n\")\n",
    "    X = np.array(X)\n",
    "    X = X[:-1]   # somehow last entry is empty\n",
    "    X = [sympify(xi) for xi in X]\n",
    "\n",
    "with open(taylor_file) as f:\n",
    "    y_taylor = f.read().split(\"\\n\")\n",
    "    y_taylor = np.array(y_taylor)\n",
    "    y_taylor = y_taylor[:-1]\n",
    "    y_taylor = [sympify(yi) for yi in y_taylor]\n",
    "\n",
    "with open(coeffs_file) as f:\n",
    "    y_coeffs = f.read().split(\"\\n\")\n",
    "    y_coeffs = y_coeffs[:-1]\n",
    "    for i, y in enumerate(y_coeffs):\n",
    "        y = sympify(y)\n",
    "        # add start end tokens and remove whitespaces\n",
    "        y_coeffs[i] = y"
   ],
   "metadata": {
    "collapsed": false,
    "pycharm": {
     "name": "#%%\n"
    }
   }
  },
  {
   "cell_type": "code",
   "execution_count": 5,
   "outputs": [
    {
     "name": "stdout",
     "output_type": "stream",
     "text": [
      "True\n"
     ]
    }
   ],
   "source": [
    "tmp = [[X[i], y_coeffs[i], y_taylor[i]] for i in range(0, len(X))]\n",
    "random.shuffle(tmp)\n",
    "\n",
    "num_train_samples = int(0.90 * len(tmp))\n",
    "\n",
    "train = tmp[0:num_train_samples]\n",
    "test = tmp[num_train_samples:]\n",
    "X_train = [x[0] for x in train]\n",
    "X_test = [x[0] for x in test]\n",
    "y_taylor_train = [x[2] for x in train]\n",
    "y_taylor_test = [x[2] for x in test]\n",
    "print(len(tmp) == len(train) + len(test))"
   ],
   "metadata": {
    "collapsed": false,
    "pycharm": {
     "name": "#%%\n"
    }
   }
  },
  {
   "cell_type": "code",
   "execution_count": 6,
   "outputs": [],
   "source": [
    "y_taylor_prefix_train = [sympy_to_prefix(y) for y in y_taylor_train]"
   ],
   "metadata": {
    "collapsed": false,
    "pycharm": {
     "name": "#%%\n"
    }
   }
  },
  {
   "cell_type": "code",
   "execution_count": null,
   "outputs": [],
   "source": [
    "y_taylor_prefix_train = [sympy_to_prefix(y) for y in y_taylor_train]"
   ],
   "metadata": {
    "collapsed": false,
    "pycharm": {
     "name": "#%%\n"
    }
   }
  },
  {
   "cell_type": "code",
   "execution_count": 7,
   "outputs": [
    {
     "ename": "RecursionError",
     "evalue": "maximum recursion depth exceeded while calling a Python object",
     "output_type": "error",
     "traceback": [
      "\u001B[0;31m---------------------------------------------------------------------------\u001B[0m",
      "\u001B[0;31mRecursionError\u001B[0m                            Traceback (most recent call last)",
      "Input \u001B[0;32mIn [7]\u001B[0m, in \u001B[0;36m<cell line: 1>\u001B[0;34m()\u001B[0m\n\u001B[0;32m----> 1\u001B[0m y_taylor_recovered_train \u001B[38;5;241m=\u001B[39m [prefix_to_sympy(y) \u001B[38;5;28;01mfor\u001B[39;00m y \u001B[38;5;129;01min\u001B[39;00m y_taylor_prefix_train]\n",
      "Input \u001B[0;32mIn [7]\u001B[0m, in \u001B[0;36m<listcomp>\u001B[0;34m(.0)\u001B[0m\n\u001B[0;32m----> 1\u001B[0m y_taylor_recovered_train \u001B[38;5;241m=\u001B[39m [\u001B[43mprefix_to_sympy\u001B[49m\u001B[43m(\u001B[49m\u001B[43my\u001B[49m\u001B[43m)\u001B[49m \u001B[38;5;28;01mfor\u001B[39;00m y \u001B[38;5;129;01min\u001B[39;00m y_taylor_prefix_train]\n",
      "File \u001B[0;32m~/Documents/PhD-ML/TaylorExpansionML/source/data_preparation.py:353\u001B[0m, in \u001B[0;36mprefix_to_sympy\u001B[0;34m(expr_arr)\u001B[0m\n\u001B[1;32m    351\u001B[0m     op \u001B[38;5;241m=\u001B[39m sp\u001B[38;5;241m.\u001B[39msympify(op)\n\u001B[1;32m    352\u001B[0m     expr_arr_new \u001B[38;5;241m=\u001B[39m expr_arr[\u001B[38;5;241m0\u001B[39m:op_pos] \u001B[38;5;241m+\u001B[39m [op] \u001B[38;5;241m+\u001B[39m expr_arr[op_pos\u001B[38;5;241m+\u001B[39m\u001B[38;5;241m1\u001B[39m:]\n\u001B[0;32m--> 353\u001B[0m     \u001B[38;5;28;01mreturn\u001B[39;00m \u001B[43mprefix_to_sympy\u001B[49m\u001B[43m(\u001B[49m\u001B[43mexpr_arr_new\u001B[49m\u001B[43m)\u001B[49m\n\u001B[1;32m    355\u001B[0m \u001B[38;5;28;01mreturn\u001B[39;00m op\n",
      "File \u001B[0;32m~/Documents/PhD-ML/TaylorExpansionML/source/data_preparation.py:343\u001B[0m, in \u001B[0;36mprefix_to_sympy\u001B[0;34m(expr_arr)\u001B[0m\n\u001B[1;32m    341\u001B[0m     func \u001B[38;5;241m=\u001B[39m op(\u001B[38;5;241m*\u001B[39margs)\n\u001B[1;32m    342\u001B[0m     expr \u001B[38;5;241m=\u001B[39m expr_arr[\u001B[38;5;241m0\u001B[39m:op_pos] \u001B[38;5;241m+\u001B[39m [func] \u001B[38;5;241m+\u001B[39m expr_arr[op_pos\u001B[38;5;241m+\u001B[39mnum_args\u001B[38;5;241m+\u001B[39m\u001B[38;5;241m1\u001B[39m:]\n\u001B[0;32m--> 343\u001B[0m     \u001B[38;5;28;01mreturn\u001B[39;00m \u001B[43mprefix_to_sympy\u001B[49m\u001B[43m(\u001B[49m\u001B[43mexpr\u001B[49m\u001B[43m)\u001B[49m\n\u001B[1;32m    345\u001B[0m \u001B[38;5;28;01melif\u001B[39;00m op \u001B[38;5;241m==\u001B[39m \u001B[38;5;124m'\u001B[39m\u001B[38;5;124mint\u001B[39m\u001B[38;5;124m'\u001B[39m:\n\u001B[1;32m    346\u001B[0m     string_end_pos \u001B[38;5;241m=\u001B[39m rightmost_string_pos(expr_arr)\n",
      "File \u001B[0;32m~/Documents/PhD-ML/TaylorExpansionML/source/data_preparation.py:349\u001B[0m, in \u001B[0;36mprefix_to_sympy\u001B[0;34m(expr_arr)\u001B[0m\n\u001B[1;32m    347\u001B[0m     integer \u001B[38;5;241m=\u001B[39m unformat_integer(expr_arr[op_pos:string_end_pos\u001B[38;5;241m+\u001B[39m\u001B[38;5;241m1\u001B[39m])\n\u001B[1;32m    348\u001B[0m     expr_arr_new \u001B[38;5;241m=\u001B[39m expr_arr[\u001B[38;5;241m0\u001B[39m:op_pos] \u001B[38;5;241m+\u001B[39m [integer] \u001B[38;5;241m+\u001B[39m expr_arr[string_end_pos\u001B[38;5;241m+\u001B[39m\u001B[38;5;241m1\u001B[39m:]\n\u001B[0;32m--> 349\u001B[0m     \u001B[38;5;28;01mreturn\u001B[39;00m \u001B[43mprefix_to_sympy\u001B[49m\u001B[43m(\u001B[49m\u001B[43mexpr_arr_new\u001B[49m\u001B[43m)\u001B[49m\n\u001B[1;32m    350\u001B[0m \u001B[38;5;28;01melif\u001B[39;00m op \u001B[38;5;129;01min\u001B[39;00m variables:\n\u001B[1;32m    351\u001B[0m     op \u001B[38;5;241m=\u001B[39m sp\u001B[38;5;241m.\u001B[39msympify(op)\n",
      "File \u001B[0;32m~/Documents/PhD-ML/TaylorExpansionML/source/data_preparation.py:349\u001B[0m, in \u001B[0;36mprefix_to_sympy\u001B[0;34m(expr_arr)\u001B[0m\n\u001B[1;32m    347\u001B[0m     integer \u001B[38;5;241m=\u001B[39m unformat_integer(expr_arr[op_pos:string_end_pos\u001B[38;5;241m+\u001B[39m\u001B[38;5;241m1\u001B[39m])\n\u001B[1;32m    348\u001B[0m     expr_arr_new \u001B[38;5;241m=\u001B[39m expr_arr[\u001B[38;5;241m0\u001B[39m:op_pos] \u001B[38;5;241m+\u001B[39m [integer] \u001B[38;5;241m+\u001B[39m expr_arr[string_end_pos\u001B[38;5;241m+\u001B[39m\u001B[38;5;241m1\u001B[39m:]\n\u001B[0;32m--> 349\u001B[0m     \u001B[38;5;28;01mreturn\u001B[39;00m \u001B[43mprefix_to_sympy\u001B[49m\u001B[43m(\u001B[49m\u001B[43mexpr_arr_new\u001B[49m\u001B[43m)\u001B[49m\n\u001B[1;32m    350\u001B[0m \u001B[38;5;28;01melif\u001B[39;00m op \u001B[38;5;129;01min\u001B[39;00m variables:\n\u001B[1;32m    351\u001B[0m     op \u001B[38;5;241m=\u001B[39m sp\u001B[38;5;241m.\u001B[39msympify(op)\n",
      "File \u001B[0;32m~/Documents/PhD-ML/TaylorExpansionML/source/data_preparation.py:343\u001B[0m, in \u001B[0;36mprefix_to_sympy\u001B[0;34m(expr_arr)\u001B[0m\n\u001B[1;32m    341\u001B[0m     func \u001B[38;5;241m=\u001B[39m op(\u001B[38;5;241m*\u001B[39margs)\n\u001B[1;32m    342\u001B[0m     expr \u001B[38;5;241m=\u001B[39m expr_arr[\u001B[38;5;241m0\u001B[39m:op_pos] \u001B[38;5;241m+\u001B[39m [func] \u001B[38;5;241m+\u001B[39m expr_arr[op_pos\u001B[38;5;241m+\u001B[39mnum_args\u001B[38;5;241m+\u001B[39m\u001B[38;5;241m1\u001B[39m:]\n\u001B[0;32m--> 343\u001B[0m     \u001B[38;5;28;01mreturn\u001B[39;00m \u001B[43mprefix_to_sympy\u001B[49m\u001B[43m(\u001B[49m\u001B[43mexpr\u001B[49m\u001B[43m)\u001B[49m\n\u001B[1;32m    345\u001B[0m \u001B[38;5;28;01melif\u001B[39;00m op \u001B[38;5;241m==\u001B[39m \u001B[38;5;124m'\u001B[39m\u001B[38;5;124mint\u001B[39m\u001B[38;5;124m'\u001B[39m:\n\u001B[1;32m    346\u001B[0m     string_end_pos \u001B[38;5;241m=\u001B[39m rightmost_string_pos(expr_arr)\n",
      "    \u001B[0;31m[... skipping similar frames: prefix_to_sympy at line 349 (1 times), prefix_to_sympy at line 343 (1 times)]\u001B[0m\n",
      "File \u001B[0;32m~/Documents/PhD-ML/TaylorExpansionML/source/data_preparation.py:353\u001B[0m, in \u001B[0;36mprefix_to_sympy\u001B[0;34m(expr_arr)\u001B[0m\n\u001B[1;32m    351\u001B[0m     op \u001B[38;5;241m=\u001B[39m sp\u001B[38;5;241m.\u001B[39msympify(op)\n\u001B[1;32m    352\u001B[0m     expr_arr_new \u001B[38;5;241m=\u001B[39m expr_arr[\u001B[38;5;241m0\u001B[39m:op_pos] \u001B[38;5;241m+\u001B[39m [op] \u001B[38;5;241m+\u001B[39m expr_arr[op_pos\u001B[38;5;241m+\u001B[39m\u001B[38;5;241m1\u001B[39m:]\n\u001B[0;32m--> 353\u001B[0m     \u001B[38;5;28;01mreturn\u001B[39;00m \u001B[43mprefix_to_sympy\u001B[49m\u001B[43m(\u001B[49m\u001B[43mexpr_arr_new\u001B[49m\u001B[43m)\u001B[49m\n\u001B[1;32m    355\u001B[0m \u001B[38;5;28;01mreturn\u001B[39;00m op\n",
      "    \u001B[0;31m[... skipping similar frames: prefix_to_sympy at line 343 (1606 times), prefix_to_sympy at line 349 (1063 times), prefix_to_sympy at line 353 (278 times)]\u001B[0m\n",
      "File \u001B[0;32m~/Documents/PhD-ML/TaylorExpansionML/source/data_preparation.py:349\u001B[0m, in \u001B[0;36mprefix_to_sympy\u001B[0;34m(expr_arr)\u001B[0m\n\u001B[1;32m    347\u001B[0m     integer \u001B[38;5;241m=\u001B[39m unformat_integer(expr_arr[op_pos:string_end_pos\u001B[38;5;241m+\u001B[39m\u001B[38;5;241m1\u001B[39m])\n\u001B[1;32m    348\u001B[0m     expr_arr_new \u001B[38;5;241m=\u001B[39m expr_arr[\u001B[38;5;241m0\u001B[39m:op_pos] \u001B[38;5;241m+\u001B[39m [integer] \u001B[38;5;241m+\u001B[39m expr_arr[string_end_pos\u001B[38;5;241m+\u001B[39m\u001B[38;5;241m1\u001B[39m:]\n\u001B[0;32m--> 349\u001B[0m     \u001B[38;5;28;01mreturn\u001B[39;00m \u001B[43mprefix_to_sympy\u001B[49m\u001B[43m(\u001B[49m\u001B[43mexpr_arr_new\u001B[49m\u001B[43m)\u001B[49m\n\u001B[1;32m    350\u001B[0m \u001B[38;5;28;01melif\u001B[39;00m op \u001B[38;5;129;01min\u001B[39;00m variables:\n\u001B[1;32m    351\u001B[0m     op \u001B[38;5;241m=\u001B[39m sp\u001B[38;5;241m.\u001B[39msympify(op)\n",
      "    \u001B[0;31m[... skipping similar frames: prefix_to_sympy at line 343 (1 times)]\u001B[0m\n",
      "File \u001B[0;32m~/Documents/PhD-ML/TaylorExpansionML/source/data_preparation.py:353\u001B[0m, in \u001B[0;36mprefix_to_sympy\u001B[0;34m(expr_arr)\u001B[0m\n\u001B[1;32m    351\u001B[0m     op \u001B[38;5;241m=\u001B[39m sp\u001B[38;5;241m.\u001B[39msympify(op)\n\u001B[1;32m    352\u001B[0m     expr_arr_new \u001B[38;5;241m=\u001B[39m expr_arr[\u001B[38;5;241m0\u001B[39m:op_pos] \u001B[38;5;241m+\u001B[39m [op] \u001B[38;5;241m+\u001B[39m expr_arr[op_pos\u001B[38;5;241m+\u001B[39m\u001B[38;5;241m1\u001B[39m:]\n\u001B[0;32m--> 353\u001B[0m     \u001B[38;5;28;01mreturn\u001B[39;00m \u001B[43mprefix_to_sympy\u001B[49m\u001B[43m(\u001B[49m\u001B[43mexpr_arr_new\u001B[49m\u001B[43m)\u001B[49m\n\u001B[1;32m    355\u001B[0m \u001B[38;5;28;01mreturn\u001B[39;00m op\n",
      "    \u001B[0;31m[... skipping similar frames: prefix_to_sympy at line 343 (1 times)]\u001B[0m\n",
      "File \u001B[0;32m~/Documents/PhD-ML/TaylorExpansionML/source/data_preparation.py:343\u001B[0m, in \u001B[0;36mprefix_to_sympy\u001B[0;34m(expr_arr)\u001B[0m\n\u001B[1;32m    341\u001B[0m     func \u001B[38;5;241m=\u001B[39m op(\u001B[38;5;241m*\u001B[39margs)\n\u001B[1;32m    342\u001B[0m     expr \u001B[38;5;241m=\u001B[39m expr_arr[\u001B[38;5;241m0\u001B[39m:op_pos] \u001B[38;5;241m+\u001B[39m [func] \u001B[38;5;241m+\u001B[39m expr_arr[op_pos\u001B[38;5;241m+\u001B[39mnum_args\u001B[38;5;241m+\u001B[39m\u001B[38;5;241m1\u001B[39m:]\n\u001B[0;32m--> 343\u001B[0m     \u001B[38;5;28;01mreturn\u001B[39;00m \u001B[43mprefix_to_sympy\u001B[49m\u001B[43m(\u001B[49m\u001B[43mexpr\u001B[49m\u001B[43m)\u001B[49m\n\u001B[1;32m    345\u001B[0m \u001B[38;5;28;01melif\u001B[39;00m op \u001B[38;5;241m==\u001B[39m \u001B[38;5;124m'\u001B[39m\u001B[38;5;124mint\u001B[39m\u001B[38;5;124m'\u001B[39m:\n\u001B[1;32m    346\u001B[0m     string_end_pos \u001B[38;5;241m=\u001B[39m rightmost_string_pos(expr_arr)\n",
      "File \u001B[0;32m~/Documents/PhD-ML/TaylorExpansionML/source/data_preparation.py:347\u001B[0m, in \u001B[0;36mprefix_to_sympy\u001B[0;34m(expr_arr)\u001B[0m\n\u001B[1;32m    345\u001B[0m \u001B[38;5;28;01melif\u001B[39;00m op \u001B[38;5;241m==\u001B[39m \u001B[38;5;124m'\u001B[39m\u001B[38;5;124mint\u001B[39m\u001B[38;5;124m'\u001B[39m:\n\u001B[1;32m    346\u001B[0m     string_end_pos \u001B[38;5;241m=\u001B[39m rightmost_string_pos(expr_arr)\n\u001B[0;32m--> 347\u001B[0m     integer \u001B[38;5;241m=\u001B[39m \u001B[43munformat_integer\u001B[49m\u001B[43m(\u001B[49m\u001B[43mexpr_arr\u001B[49m\u001B[43m[\u001B[49m\u001B[43mop_pos\u001B[49m\u001B[43m:\u001B[49m\u001B[43mstring_end_pos\u001B[49m\u001B[38;5;241;43m+\u001B[39;49m\u001B[38;5;241;43m1\u001B[39;49m\u001B[43m]\u001B[49m\u001B[43m)\u001B[49m\n\u001B[1;32m    348\u001B[0m     expr_arr_new \u001B[38;5;241m=\u001B[39m expr_arr[\u001B[38;5;241m0\u001B[39m:op_pos] \u001B[38;5;241m+\u001B[39m [integer] \u001B[38;5;241m+\u001B[39m expr_arr[string_end_pos\u001B[38;5;241m+\u001B[39m\u001B[38;5;241m1\u001B[39m:]\n\u001B[1;32m    349\u001B[0m     \u001B[38;5;28;01mreturn\u001B[39;00m prefix_to_sympy(expr_arr_new)\n",
      "File \u001B[0;32m~/Documents/PhD-ML/TaylorExpansionML/source/data_preparation.py:394\u001B[0m, in \u001B[0;36munformat_integer\u001B[0;34m(arr)\u001B[0m\n\u001B[1;32m    391\u001B[0m \u001B[38;5;28;01mfor\u001B[39;00m s \u001B[38;5;129;01min\u001B[39;00m arr[\u001B[38;5;241m2\u001B[39m:]:\n\u001B[1;32m    392\u001B[0m     ret \u001B[38;5;241m+\u001B[39m\u001B[38;5;241m=\u001B[39m s\n\u001B[0;32m--> 394\u001B[0m \u001B[38;5;28;01mreturn\u001B[39;00m \u001B[43msp\u001B[49m\u001B[38;5;241;43m.\u001B[39;49m\u001B[43mparsing\u001B[49m\u001B[38;5;241;43m.\u001B[39;49m\u001B[43mparse_expr\u001B[49m\u001B[43m(\u001B[49m\u001B[43mret\u001B[49m\u001B[43m)\u001B[49m\n",
      "File \u001B[0;32m~/anaconda3/lib/python3.9/site-packages/sympy/parsing/sympy_parser.py:1085\u001B[0m, in \u001B[0;36mparse_expr\u001B[0;34m(s, local_dict, transformations, global_dict, evaluate)\u001B[0m\n\u001B[1;32m   1081\u001B[0m         \u001B[38;5;28;01mif\u001B[39;00m \u001B[38;5;129;01mnot\u001B[39;00m callable(_):\n\u001B[1;32m   1082\u001B[0m             \u001B[38;5;28;01mraise\u001B[39;00m \u001B[38;5;167;01mTypeError\u001B[39;00m(filldedent(\u001B[38;5;124m'''\u001B[39m\n\u001B[1;32m   1083\u001B[0m \u001B[38;5;124m                expected a function in `transformations`,\u001B[39m\n\u001B[1;32m   1084\u001B[0m \u001B[38;5;124m                not \u001B[39m\u001B[38;5;132;01m%s\u001B[39;00m\u001B[38;5;124m'''\u001B[39m \u001B[38;5;241m%\u001B[39m func_name(_)))\n\u001B[0;32m-> 1085\u001B[0m         \u001B[38;5;28;01mif\u001B[39;00m \u001B[43marity\u001B[49m\u001B[43m(\u001B[49m\u001B[43m_\u001B[49m\u001B[43m)\u001B[49m \u001B[38;5;241m!=\u001B[39m \u001B[38;5;241m3\u001B[39m:\n\u001B[1;32m   1086\u001B[0m             \u001B[38;5;28;01mraise\u001B[39;00m \u001B[38;5;167;01mTypeError\u001B[39;00m(filldedent(\u001B[38;5;124m'''\u001B[39m\n\u001B[1;32m   1087\u001B[0m \u001B[38;5;124m                a transformation should be function that\u001B[39m\n\u001B[1;32m   1088\u001B[0m \u001B[38;5;124m                takes 3 arguments\u001B[39m\u001B[38;5;124m'''\u001B[39m))\n\u001B[1;32m   1090\u001B[0m code \u001B[38;5;241m=\u001B[39m stringify_expr(s, local_dict, global_dict, transformations)\n",
      "File \u001B[0;32m~/anaconda3/lib/python3.9/site-packages/sympy/core/function.py:143\u001B[0m, in \u001B[0;36marity\u001B[0;34m(cls)\u001B[0m\n\u001B[1;32m    122\u001B[0m \u001B[38;5;124;03m\"\"\"Return the arity of the function if it is known, else None.\u001B[39;00m\n\u001B[1;32m    123\u001B[0m \n\u001B[1;32m    124\u001B[0m \u001B[38;5;124;03mExplanation\u001B[39;00m\n\u001B[0;32m   (...)\u001B[0m\n\u001B[1;32m    139\u001B[0m \u001B[38;5;124;03mTrue\u001B[39;00m\n\u001B[1;32m    140\u001B[0m \u001B[38;5;124;03m\"\"\"\u001B[39;00m\n\u001B[1;32m    141\u001B[0m eval_ \u001B[38;5;241m=\u001B[39m \u001B[38;5;28mgetattr\u001B[39m(\u001B[38;5;28mcls\u001B[39m, \u001B[38;5;124m'\u001B[39m\u001B[38;5;124meval\u001B[39m\u001B[38;5;124m'\u001B[39m, \u001B[38;5;28mcls\u001B[39m)\n\u001B[0;32m--> 143\u001B[0m parameters \u001B[38;5;241m=\u001B[39m \u001B[43minspect\u001B[49m\u001B[38;5;241;43m.\u001B[39;49m\u001B[43msignature\u001B[49m\u001B[43m(\u001B[49m\u001B[43meval_\u001B[49m\u001B[43m)\u001B[49m\u001B[38;5;241m.\u001B[39mparameters\u001B[38;5;241m.\u001B[39mitems()\n\u001B[1;32m    144\u001B[0m \u001B[38;5;28;01mif\u001B[39;00m [p \u001B[38;5;28;01mfor\u001B[39;00m _, p \u001B[38;5;129;01min\u001B[39;00m parameters \u001B[38;5;28;01mif\u001B[39;00m p\u001B[38;5;241m.\u001B[39mkind \u001B[38;5;241m==\u001B[39m p\u001B[38;5;241m.\u001B[39mVAR_POSITIONAL]:\n\u001B[1;32m    145\u001B[0m     \u001B[38;5;28;01mreturn\u001B[39;00m\n",
      "File \u001B[0;32m~/anaconda3/lib/python3.9/inspect.py:3113\u001B[0m, in \u001B[0;36msignature\u001B[0;34m(obj, follow_wrapped)\u001B[0m\n\u001B[1;32m   3111\u001B[0m \u001B[38;5;28;01mdef\u001B[39;00m \u001B[38;5;21msignature\u001B[39m(obj, \u001B[38;5;241m*\u001B[39m, follow_wrapped\u001B[38;5;241m=\u001B[39m\u001B[38;5;28;01mTrue\u001B[39;00m):\n\u001B[1;32m   3112\u001B[0m     \u001B[38;5;124;03m\"\"\"Get a signature object for the passed callable.\"\"\"\u001B[39;00m\n\u001B[0;32m-> 3113\u001B[0m     \u001B[38;5;28;01mreturn\u001B[39;00m \u001B[43mSignature\u001B[49m\u001B[38;5;241;43m.\u001B[39;49m\u001B[43mfrom_callable\u001B[49m\u001B[43m(\u001B[49m\u001B[43mobj\u001B[49m\u001B[43m,\u001B[49m\u001B[43m \u001B[49m\u001B[43mfollow_wrapped\u001B[49m\u001B[38;5;241;43m=\u001B[39;49m\u001B[43mfollow_wrapped\u001B[49m\u001B[43m)\u001B[49m\n",
      "File \u001B[0;32m~/anaconda3/lib/python3.9/inspect.py:2862\u001B[0m, in \u001B[0;36mSignature.from_callable\u001B[0;34m(cls, obj, follow_wrapped)\u001B[0m\n\u001B[1;32m   2859\u001B[0m \u001B[38;5;129m@classmethod\u001B[39m\n\u001B[1;32m   2860\u001B[0m \u001B[38;5;28;01mdef\u001B[39;00m \u001B[38;5;21mfrom_callable\u001B[39m(\u001B[38;5;28mcls\u001B[39m, obj, \u001B[38;5;241m*\u001B[39m, follow_wrapped\u001B[38;5;241m=\u001B[39m\u001B[38;5;28;01mTrue\u001B[39;00m):\n\u001B[1;32m   2861\u001B[0m     \u001B[38;5;124;03m\"\"\"Constructs Signature for the given callable object.\"\"\"\u001B[39;00m\n\u001B[0;32m-> 2862\u001B[0m     \u001B[38;5;28;01mreturn\u001B[39;00m \u001B[43m_signature_from_callable\u001B[49m\u001B[43m(\u001B[49m\u001B[43mobj\u001B[49m\u001B[43m,\u001B[49m\u001B[43m \u001B[49m\u001B[43msigcls\u001B[49m\u001B[38;5;241;43m=\u001B[39;49m\u001B[38;5;28;43mcls\u001B[39;49m\u001B[43m,\u001B[49m\n\u001B[1;32m   2863\u001B[0m \u001B[43m                                    \u001B[49m\u001B[43mfollow_wrapper_chains\u001B[49m\u001B[38;5;241;43m=\u001B[39;49m\u001B[43mfollow_wrapped\u001B[49m\u001B[43m)\u001B[49m\n",
      "File \u001B[0;32m~/anaconda3/lib/python3.9/inspect.py:2325\u001B[0m, in \u001B[0;36m_signature_from_callable\u001B[0;34m(obj, follow_wrapper_chains, skip_bound_arg, sigcls)\u001B[0m\n\u001B[1;32m   2320\u001B[0m             \u001B[38;5;28;01mreturn\u001B[39;00m sig\u001B[38;5;241m.\u001B[39mreplace(parameters\u001B[38;5;241m=\u001B[39mnew_params)\n\u001B[1;32m   2322\u001B[0m \u001B[38;5;28;01mif\u001B[39;00m isfunction(obj) \u001B[38;5;129;01mor\u001B[39;00m _signature_is_functionlike(obj):\n\u001B[1;32m   2323\u001B[0m     \u001B[38;5;66;03m# If it's a pure Python function, or an object that is duck type\u001B[39;00m\n\u001B[1;32m   2324\u001B[0m     \u001B[38;5;66;03m# of a Python function (Cython functions, for instance), then:\u001B[39;00m\n\u001B[0;32m-> 2325\u001B[0m     \u001B[38;5;28;01mreturn\u001B[39;00m \u001B[43m_signature_from_function\u001B[49m\u001B[43m(\u001B[49m\u001B[43msigcls\u001B[49m\u001B[43m,\u001B[49m\u001B[43m \u001B[49m\u001B[43mobj\u001B[49m\u001B[43m,\u001B[49m\n\u001B[1;32m   2326\u001B[0m \u001B[43m                                    \u001B[49m\u001B[43mskip_bound_arg\u001B[49m\u001B[38;5;241;43m=\u001B[39;49m\u001B[43mskip_bound_arg\u001B[49m\u001B[43m)\u001B[49m\n\u001B[1;32m   2328\u001B[0m \u001B[38;5;28;01mif\u001B[39;00m _signature_is_builtin(obj):\n\u001B[1;32m   2329\u001B[0m     \u001B[38;5;28;01mreturn\u001B[39;00m _signature_from_builtin(sigcls, obj,\n\u001B[1;32m   2330\u001B[0m                                    skip_bound_arg\u001B[38;5;241m=\u001B[39mskip_bound_arg)\n",
      "File \u001B[0;32m~/anaconda3/lib/python3.9/inspect.py:2196\u001B[0m, in \u001B[0;36m_signature_from_function\u001B[0;34m(cls, func, skip_bound_arg)\u001B[0m\n\u001B[1;32m   2194\u001B[0m kind \u001B[38;5;241m=\u001B[39m _POSITIONAL_ONLY \u001B[38;5;28;01mif\u001B[39;00m posonly_left \u001B[38;5;28;01melse\u001B[39;00m _POSITIONAL_OR_KEYWORD\n\u001B[1;32m   2195\u001B[0m annotation \u001B[38;5;241m=\u001B[39m annotations\u001B[38;5;241m.\u001B[39mget(name, _empty)\n\u001B[0;32m-> 2196\u001B[0m parameters\u001B[38;5;241m.\u001B[39mappend(\u001B[43mParameter\u001B[49m\u001B[43m(\u001B[49m\u001B[43mname\u001B[49m\u001B[43m,\u001B[49m\u001B[43m \u001B[49m\u001B[43mannotation\u001B[49m\u001B[38;5;241;43m=\u001B[39;49m\u001B[43mannotation\u001B[49m\u001B[43m,\u001B[49m\n\u001B[1;32m   2197\u001B[0m \u001B[43m                            \u001B[49m\u001B[43mkind\u001B[49m\u001B[38;5;241;43m=\u001B[39;49m\u001B[43mkind\u001B[49m\u001B[43m)\u001B[49m)\n\u001B[1;32m   2198\u001B[0m \u001B[38;5;28;01mif\u001B[39;00m posonly_left:\n\u001B[1;32m   2199\u001B[0m     posonly_left \u001B[38;5;241m-\u001B[39m\u001B[38;5;241m=\u001B[39m \u001B[38;5;241m1\u001B[39m\n",
      "File \u001B[0;32m~/anaconda3/lib/python3.9/inspect.py:2500\u001B[0m, in \u001B[0;36mParameter.__init__\u001B[0;34m(self, name, kind, default, annotation)\u001B[0m\n\u001B[1;32m   2498\u001B[0m \u001B[38;5;28;01mdef\u001B[39;00m \u001B[38;5;21m__init__\u001B[39m(\u001B[38;5;28mself\u001B[39m, name, kind, \u001B[38;5;241m*\u001B[39m, default\u001B[38;5;241m=\u001B[39m_empty, annotation\u001B[38;5;241m=\u001B[39m_empty):\n\u001B[1;32m   2499\u001B[0m     \u001B[38;5;28;01mtry\u001B[39;00m:\n\u001B[0;32m-> 2500\u001B[0m         \u001B[38;5;28mself\u001B[39m\u001B[38;5;241m.\u001B[39m_kind \u001B[38;5;241m=\u001B[39m \u001B[43m_ParameterKind\u001B[49m\u001B[43m(\u001B[49m\u001B[43mkind\u001B[49m\u001B[43m)\u001B[49m\n\u001B[1;32m   2501\u001B[0m     \u001B[38;5;28;01mexcept\u001B[39;00m \u001B[38;5;167;01mValueError\u001B[39;00m:\n\u001B[1;32m   2502\u001B[0m         \u001B[38;5;28;01mraise\u001B[39;00m \u001B[38;5;167;01mValueError\u001B[39;00m(\u001B[38;5;124mf\u001B[39m\u001B[38;5;124m'\u001B[39m\u001B[38;5;124mvalue \u001B[39m\u001B[38;5;132;01m{\u001B[39;00mkind\u001B[38;5;132;01m!r}\u001B[39;00m\u001B[38;5;124m is not a valid Parameter.kind\u001B[39m\u001B[38;5;124m'\u001B[39m)\n",
      "File \u001B[0;32m~/anaconda3/lib/python3.9/enum.py:384\u001B[0m, in \u001B[0;36mEnumMeta.__call__\u001B[0;34m(cls, value, names, module, qualname, type, start)\u001B[0m\n\u001B[1;32m    359\u001B[0m \u001B[38;5;124;03m\"\"\"\u001B[39;00m\n\u001B[1;32m    360\u001B[0m \u001B[38;5;124;03mEither returns an existing member, or creates a new enum class.\u001B[39;00m\n\u001B[1;32m    361\u001B[0m \n\u001B[0;32m   (...)\u001B[0m\n\u001B[1;32m    381\u001B[0m \u001B[38;5;124;03m`type`, if set, will be mixed in as the first base class.\u001B[39;00m\n\u001B[1;32m    382\u001B[0m \u001B[38;5;124;03m\"\"\"\u001B[39;00m\n\u001B[1;32m    383\u001B[0m \u001B[38;5;28;01mif\u001B[39;00m names \u001B[38;5;129;01mis\u001B[39;00m \u001B[38;5;28;01mNone\u001B[39;00m:  \u001B[38;5;66;03m# simple value lookup\u001B[39;00m\n\u001B[0;32m--> 384\u001B[0m     \u001B[38;5;28;01mreturn\u001B[39;00m \u001B[38;5;28;43mcls\u001B[39;49m\u001B[38;5;241;43m.\u001B[39;49m\u001B[38;5;21;43m__new__\u001B[39;49m(\u001B[38;5;28mcls\u001B[39m, value)\n\u001B[1;32m    385\u001B[0m \u001B[38;5;66;03m# otherwise, functional API: we're creating a new Enum type\u001B[39;00m\n\u001B[1;32m    386\u001B[0m \u001B[38;5;28;01mreturn\u001B[39;00m \u001B[38;5;28mcls\u001B[39m\u001B[38;5;241m.\u001B[39m_create_(\n\u001B[1;32m    387\u001B[0m         value,\n\u001B[1;32m    388\u001B[0m         names,\n\u001B[0;32m   (...)\u001B[0m\n\u001B[1;32m    392\u001B[0m         start\u001B[38;5;241m=\u001B[39mstart,\n\u001B[1;32m    393\u001B[0m         )\n",
      "\u001B[0;31mRecursionError\u001B[0m: maximum recursion depth exceeded while calling a Python object"
     ]
    }
   ],
   "source": [
    "y_taylor_recovered_train = [prefix_to_sympy(y) for y in y_taylor_prefix_train]"
   ],
   "metadata": {
    "collapsed": false,
    "pycharm": {
     "name": "#%%\n"
    }
   }
  },
  {
   "cell_type": "code",
   "execution_count": 11,
   "outputs": [
    {
     "data": {
      "text/plain": "  0%|          | 0/9900 [00:00<?, ?it/s]",
      "application/vnd.jupyter.widget-view+json": {
       "version_major": 2,
       "version_minor": 0,
       "model_id": "1e65647fe76046c2a6970b1f7c769b7a"
      }
     },
     "metadata": {},
     "output_type": "display_data"
    }
   ],
   "source": [
    "problem_idx = []\n",
    "problem_y = []\n",
    "problem_y_prefix = []\n",
    "for i, y in enumerate(tqdm(y_taylor_prefix_train)):\n",
    "    try:\n",
    "        yy = prefix_to_sympy(y)\n",
    "    except:\n",
    "        problem_idx.append(i)\n",
    "        problem_y.append(y_taylor_train[i])\n",
    "        problem_y_prefix.append(y)"
   ],
   "metadata": {
    "collapsed": false,
    "pycharm": {
     "name": "#%%\n"
    }
   }
  },
  {
   "cell_type": "code",
   "execution_count": 19,
   "outputs": [
    {
     "data": {
      "text/plain": "2775"
     },
     "execution_count": 19,
     "metadata": {},
     "output_type": "execute_result"
    }
   ],
   "source": [
    "problem_idx[0]"
   ],
   "metadata": {
    "collapsed": false,
    "pycharm": {
     "name": "#%%\n"
    }
   }
  },
  {
   "cell_type": "code",
   "execution_count": 12,
   "outputs": [
    {
     "data": {
      "text/plain": "x**4*(-24*b**4*sqrt(d)*(1 + tan(1)**2)**2*log(d)**4/tan(1) - 12*b**4*sqrt(d)*(1 + tan(1)**2)**2*log(d)**4 - 6*b**4*sqrt(d)*(1 + tan(1)**2)**4*log(d)**4/tan(1)**4 - 7*b**4*sqrt(d)*(1 + tan(1)**2)**2*log(d)**4/tan(1)**2 + b**4*sqrt(d)*(1 + tan(1)**2)*log(d)**4/tan(1) + 14*b**4*sqrt(d)*(1 + tan(1)**2)*log(d)**4 + 8*b**4*sqrt(d)*(1 + tan(1)**2)*log(d)**4*tan(1)**2 + 12*b**4*sqrt(d)*(1 + tan(1)**2)**3*log(d)**4/tan(1)**3 + 24*b**4*sqrt(d)*(1 + tan(1)**2)*log(d)**4*tan(1) + 16*b**4*sqrt(d)*(1 + tan(1)**2)**3*log(d)**4/tan(1)**2 - 8*b**3*(1 + tan(1)**2)**2*(4 + 1/sqrt(d))*log(d)**3/tan(1) - 6*b**3*(1 + tan(1)**2)**2*(4 + 1/sqrt(d))*log(d)**3/tan(1)**2 + 2*b**3*(1 + tan(1)**2)*(4 + 1/sqrt(d))*log(d)**3/tan(1) + 12*b**3*(1 + tan(1)**2)*(4 + 1/sqrt(d))*log(d)**3 + 4*b**3*(1 + tan(1)**2)**3*(4 + 1/sqrt(d))*log(d)**3/tan(1)**3 + 8*b**3*(1 + tan(1)**2)*(4 + 1/sqrt(d))*log(d)**3*tan(1) - 48*b**3*(1 + tan(1)**2)**2*log(d)**2/(sqrt(d)*tan(1)) - 36*b**3*(1 + tan(1)**2)**2*log(d)**2/(sqrt(d)*tan(1)**2) + 12*b**3*(1 + tan(1)**2)*log(d)**2/(sqrt(d)*tan(1)) + 72*b**3*(1 + tan(1)**2)*log(d)**2/sqrt(d) + 24*b**3*(1 + tan(1)**2)**3*log(d)**2/(sqrt(d)*tan(1)**3) + 48*b**3*(1 + tan(1)**2)*log(d)**2*tan(1)/sqrt(d) - 12*b**2*(1 + tan(1)**2)**2*(4 + 1/sqrt(d))*log(d)/(d*tan(1)**2) + 12*b**2*(1 + tan(1)**2)*(4 + 1/sqrt(d))*log(d)/(d*tan(1)) + 24*b**2*(1 + tan(1)**2)*(4 + 1/sqrt(d))*log(d)/d - 3*b**2*(1 + tan(1)**2)*log(d)**2/d**(3/2) - 3*b**2*(1 + tan(1)**2)*log(d)**2/(2*d**(3/2)*tan(1)) + 3*b**2*(1 + tan(1)**2)**2*log(d)**2/(2*d**(3/2)*tan(1)**2) - 24*b**2*(1 + tan(1)**2)*log(d)/d**(3/2) - 12*b**2*(1 + tan(1)**2)*log(d)/(d**(3/2)*tan(1)) + 12*b**2*(1 + tan(1)**2)**2*log(d)/(d**(3/2)*tan(1)**2) - 12*b**2*(1 + tan(1)**2)**2/(d**(3/2)*tan(1)**2) + 12*b**2*(1 + tan(1)**2)/(d**(3/2)*tan(1)) + 24*b**2*(1 + tan(1)**2)/d**(3/2) - b*(1 + tan(1)**2)*(16 - 3/d**(5/2))*log(d)/(2*tan(1)) - 6*b*(1 + tan(1)**2)*(4 + 1/sqrt(d))/(d**2*tan(1)) + 5*b*(1 + tan(1)**2)/(d**(5/2)*tan(1)) + (2*b*sqrt(d)*(1 + tan(1)**2)*log(d)/tan(1) + (4 + 1/sqrt(d))*log(tan(1)))**4/16 - 3*(2*b*sqrt(d)*(1 + tan(1)**2)*log(d)/tan(1) + (4 + 1/sqrt(d))*log(tan(1)))**2*(-8*b**2*sqrt(d)*(1 + tan(1)**2)*log(d)**2 - 4*b**2*sqrt(d)*(1 + tan(1)**2)*log(d)**2/tan(1) + 4*b**2*sqrt(d)*(1 + tan(1)**2)**2*log(d)**2/tan(1)**2 - 4*b*(1 + tan(1)**2)*(4 + 1/sqrt(d))*log(d)/tan(1) - 8*b*(1 + tan(1)**2)/(sqrt(d)*tan(1)) + log(tan(1))/d**(3/2))/8 - (2*b*sqrt(d)*(1 + tan(1)**2)*log(d)/tan(1) + (4 + 1/sqrt(d))*log(tan(1)))*(-32*b**3*sqrt(d)*(1 + tan(1)**2)*log(d)**3*tan(1) - 16*b**3*sqrt(d)*(1 + tan(1)**2)**3*log(d)**3/tan(1)**3 - 48*b**3*sqrt(d)*(1 + tan(1)**2)*log(d)**3 - 8*b**3*sqrt(d)*(1 + tan(1)**2)*log(d)**3/tan(1) + 24*b**3*sqrt(d)*(1 + tan(1)**2)**2*log(d)**3/tan(1)**2 + 32*b**3*sqrt(d)*(1 + tan(1)**2)**2*log(d)**3/tan(1) - 24*b**2*(1 + tan(1)**2)*(4 + 1/sqrt(d))*log(d)**2 - 12*b**2*(1 + tan(1)**2)*(4 + 1/sqrt(d))*log(d)**2/tan(1) + 12*b**2*(1 + tan(1)**2)**2*(4 + 1/sqrt(d))*log(d)**2/tan(1)**2 - 96*b**2*(1 + tan(1)**2)*log(d)/sqrt(d) - 48*b**2*(1 + tan(1)**2)*log(d)/(sqrt(d)*tan(1)) + 48*b**2*(1 + tan(1)**2)**2*log(d)/(sqrt(d)*tan(1)**2) - 24*b*(1 + tan(1)**2)*(4 + 1/sqrt(d))/(d*tan(1)) + 6*b*(1 + tan(1)**2)*log(d)/(d**(3/2)*tan(1)) + 24*b*(1 + tan(1)**2)/(d**(3/2)*tan(1)) + (16 - 3/d**(5/2))*log(tan(1)))/4 + 3*(-8*b**2*sqrt(d)*(1 + tan(1)**2)*log(d)**2 - 4*b**2*sqrt(d)*(1 + tan(1)**2)*log(d)**2/tan(1) + 4*b**2*sqrt(d)*(1 + tan(1)**2)**2*log(d)**2/tan(1)**2 - 4*b*(1 + tan(1)**2)*(4 + 1/sqrt(d))*log(d)/tan(1) - 8*b*(1 + tan(1)**2)/(sqrt(d)*tan(1)) + log(tan(1))/d**(3/2))**2/16 - 15*log(tan(1))/(16*d**(7/2)))*tan(1)**(sqrt(d))/24 + x**3*(-4*b**3*sqrt(d)*(1 + tan(1)**2)**2*log(d)**3/tan(1) - 3*b**3*sqrt(d)*(1 + tan(1)**2)**2*log(d)**3/tan(1)**2 + b**3*sqrt(d)*(1 + tan(1)**2)*log(d)**3/tan(1) + 6*b**3*sqrt(d)*(1 + tan(1)**2)*log(d)**3 + 2*b**3*sqrt(d)*(1 + tan(1)**2)**3*log(d)**3/tan(1)**3 + 4*b**3*sqrt(d)*(1 + tan(1)**2)*log(d)**3*tan(1) - 3*b**2*(1 + tan(1)**2)**2*(4 + 1/sqrt(d))*log(d)**2/(2*tan(1)**2) + 3*b**2*(1 + tan(1)**2)*(4 + 1/sqrt(d))*log(d)**2/(2*tan(1)) + 3*b**2*(1 + tan(1)**2)*(4 + 1/sqrt(d))*log(d)**2 - 6*b**2*(1 + tan(1)**2)**2*log(d)/(sqrt(d)*tan(1)**2) + 6*b**2*(1 + tan(1)**2)*log(d)/(sqrt(d)*tan(1)) + 12*b**2*(1 + tan(1)**2)*log(d)/sqrt(d) + 3*b*(1 + tan(1)**2)*(4 + 1/sqrt(d))/(d*tan(1)) - 3*b*(1 + tan(1)**2)*log(d)/(4*d**(3/2)*tan(1)) - 3*b*(1 + tan(1)**2)/(d**(3/2)*tan(1)) - (16 - 3/d**(5/2))*log(tan(1))/8 + (2*b*sqrt(d)*(1 + tan(1)**2)*log(d)/tan(1) + (4 + 1/sqrt(d))*log(tan(1)))**3/8 - (6*b*sqrt(d)*(1 + tan(1)**2)*log(d)/tan(1) + 3*(4 + 1/sqrt(d))*log(tan(1)))*(-8*b**2*sqrt(d)*(1 + tan(1)**2)*log(d)**2 - 4*b**2*sqrt(d)*(1 + tan(1)**2)*log(d)**2/tan(1) + 4*b**2*sqrt(d)*(1 + tan(1)**2)**2*log(d)**2/tan(1)**2 - 4*b*(1 + tan(1)**2)*(4 + 1/sqrt(d))*log(d)/tan(1) - 8*b*(1 + tan(1)**2)/(sqrt(d)*tan(1)) + log(tan(1))/d**(3/2))/8)*tan(1)**(sqrt(d))/6 + x**2*(-b**2*sqrt(d)*(1 + tan(1)**2)**2*log(d)**2/tan(1)**2 + b**2*sqrt(d)*(1 + tan(1)**2)*log(d)**2/tan(1) + 2*b**2*sqrt(d)*(1 + tan(1)**2)*log(d)**2 + b*(1 + tan(1)**2)*(4 + 1/sqrt(d))*log(d)/tan(1) + 2*b*(1 + tan(1)**2)/(sqrt(d)*tan(1)) + (2*b*sqrt(d)*(1 + tan(1)**2)*log(d)/tan(1) + (4 + 1/sqrt(d))*log(tan(1)))**2/4 - log(tan(1))/(4*d**(3/2)))*tan(1)**(sqrt(d))/2 + x*(b*sqrt(d)*(1 + tan(1)**2)*log(d)/tan(1) + (2 + 1/(2*sqrt(d)))*log(tan(1)))*tan(1)**(sqrt(d)) + tan(1)**(sqrt(d))",
      "text/latex": "$\\displaystyle \\frac{x^{4} \\left(- \\frac{24 b^{4} \\sqrt{d} \\left(1 + \\tan^{2}{\\left(1 \\right)}\\right)^{2} \\log{\\left(d \\right)}^{4}}{\\tan{\\left(1 \\right)}} - 12 b^{4} \\sqrt{d} \\left(1 + \\tan^{2}{\\left(1 \\right)}\\right)^{2} \\log{\\left(d \\right)}^{4} - \\frac{6 b^{4} \\sqrt{d} \\left(1 + \\tan^{2}{\\left(1 \\right)}\\right)^{4} \\log{\\left(d \\right)}^{4}}{\\tan^{4}{\\left(1 \\right)}} - \\frac{7 b^{4} \\sqrt{d} \\left(1 + \\tan^{2}{\\left(1 \\right)}\\right)^{2} \\log{\\left(d \\right)}^{4}}{\\tan^{2}{\\left(1 \\right)}} + \\frac{b^{4} \\sqrt{d} \\left(1 + \\tan^{2}{\\left(1 \\right)}\\right) \\log{\\left(d \\right)}^{4}}{\\tan{\\left(1 \\right)}} + 14 b^{4} \\sqrt{d} \\left(1 + \\tan^{2}{\\left(1 \\right)}\\right) \\log{\\left(d \\right)}^{4} + 8 b^{4} \\sqrt{d} \\left(1 + \\tan^{2}{\\left(1 \\right)}\\right) \\log{\\left(d \\right)}^{4} \\tan^{2}{\\left(1 \\right)} + \\frac{12 b^{4} \\sqrt{d} \\left(1 + \\tan^{2}{\\left(1 \\right)}\\right)^{3} \\log{\\left(d \\right)}^{4}}{\\tan^{3}{\\left(1 \\right)}} + 24 b^{4} \\sqrt{d} \\left(1 + \\tan^{2}{\\left(1 \\right)}\\right) \\log{\\left(d \\right)}^{4} \\tan{\\left(1 \\right)} + \\frac{16 b^{4} \\sqrt{d} \\left(1 + \\tan^{2}{\\left(1 \\right)}\\right)^{3} \\log{\\left(d \\right)}^{4}}{\\tan^{2}{\\left(1 \\right)}} - \\frac{8 b^{3} \\left(1 + \\tan^{2}{\\left(1 \\right)}\\right)^{2} \\cdot \\left(4 + \\frac{1}{\\sqrt{d}}\\right) \\log{\\left(d \\right)}^{3}}{\\tan{\\left(1 \\right)}} - \\frac{6 b^{3} \\left(1 + \\tan^{2}{\\left(1 \\right)}\\right)^{2} \\cdot \\left(4 + \\frac{1}{\\sqrt{d}}\\right) \\log{\\left(d \\right)}^{3}}{\\tan^{2}{\\left(1 \\right)}} + \\frac{2 b^{3} \\cdot \\left(1 + \\tan^{2}{\\left(1 \\right)}\\right) \\left(4 + \\frac{1}{\\sqrt{d}}\\right) \\log{\\left(d \\right)}^{3}}{\\tan{\\left(1 \\right)}} + 12 b^{3} \\cdot \\left(1 + \\tan^{2}{\\left(1 \\right)}\\right) \\left(4 + \\frac{1}{\\sqrt{d}}\\right) \\log{\\left(d \\right)}^{3} + \\frac{4 b^{3} \\left(1 + \\tan^{2}{\\left(1 \\right)}\\right)^{3} \\cdot \\left(4 + \\frac{1}{\\sqrt{d}}\\right) \\log{\\left(d \\right)}^{3}}{\\tan^{3}{\\left(1 \\right)}} + 8 b^{3} \\cdot \\left(1 + \\tan^{2}{\\left(1 \\right)}\\right) \\left(4 + \\frac{1}{\\sqrt{d}}\\right) \\log{\\left(d \\right)}^{3} \\tan{\\left(1 \\right)} - \\frac{48 b^{3} \\left(1 + \\tan^{2}{\\left(1 \\right)}\\right)^{2} \\log{\\left(d \\right)}^{2}}{\\sqrt{d} \\tan{\\left(1 \\right)}} - \\frac{36 b^{3} \\left(1 + \\tan^{2}{\\left(1 \\right)}\\right)^{2} \\log{\\left(d \\right)}^{2}}{\\sqrt{d} \\tan^{2}{\\left(1 \\right)}} + \\frac{12 b^{3} \\cdot \\left(1 + \\tan^{2}{\\left(1 \\right)}\\right) \\log{\\left(d \\right)}^{2}}{\\sqrt{d} \\tan{\\left(1 \\right)}} + \\frac{72 b^{3} \\cdot \\left(1 + \\tan^{2}{\\left(1 \\right)}\\right) \\log{\\left(d \\right)}^{2}}{\\sqrt{d}} + \\frac{24 b^{3} \\left(1 + \\tan^{2}{\\left(1 \\right)}\\right)^{3} \\log{\\left(d \\right)}^{2}}{\\sqrt{d} \\tan^{3}{\\left(1 \\right)}} + \\frac{48 b^{3} \\cdot \\left(1 + \\tan^{2}{\\left(1 \\right)}\\right) \\log{\\left(d \\right)}^{2} \\tan{\\left(1 \\right)}}{\\sqrt{d}} - \\frac{12 b^{2} \\left(1 + \\tan^{2}{\\left(1 \\right)}\\right)^{2} \\cdot \\left(4 + \\frac{1}{\\sqrt{d}}\\right) \\log{\\left(d \\right)}}{d \\tan^{2}{\\left(1 \\right)}} + \\frac{12 b^{2} \\cdot \\left(1 + \\tan^{2}{\\left(1 \\right)}\\right) \\left(4 + \\frac{1}{\\sqrt{d}}\\right) \\log{\\left(d \\right)}}{d \\tan{\\left(1 \\right)}} + \\frac{24 b^{2} \\cdot \\left(1 + \\tan^{2}{\\left(1 \\right)}\\right) \\left(4 + \\frac{1}{\\sqrt{d}}\\right) \\log{\\left(d \\right)}}{d} - \\frac{3 b^{2} \\cdot \\left(1 + \\tan^{2}{\\left(1 \\right)}\\right) \\log{\\left(d \\right)}^{2}}{d^{\\frac{3}{2}}} - \\frac{3 b^{2} \\cdot \\left(1 + \\tan^{2}{\\left(1 \\right)}\\right) \\log{\\left(d \\right)}^{2}}{2 d^{\\frac{3}{2}} \\tan{\\left(1 \\right)}} + \\frac{3 b^{2} \\left(1 + \\tan^{2}{\\left(1 \\right)}\\right)^{2} \\log{\\left(d \\right)}^{2}}{2 d^{\\frac{3}{2}} \\tan^{2}{\\left(1 \\right)}} - \\frac{24 b^{2} \\cdot \\left(1 + \\tan^{2}{\\left(1 \\right)}\\right) \\log{\\left(d \\right)}}{d^{\\frac{3}{2}}} - \\frac{12 b^{2} \\cdot \\left(1 + \\tan^{2}{\\left(1 \\right)}\\right) \\log{\\left(d \\right)}}{d^{\\frac{3}{2}} \\tan{\\left(1 \\right)}} + \\frac{12 b^{2} \\left(1 + \\tan^{2}{\\left(1 \\right)}\\right)^{2} \\log{\\left(d \\right)}}{d^{\\frac{3}{2}} \\tan^{2}{\\left(1 \\right)}} - \\frac{12 b^{2} \\left(1 + \\tan^{2}{\\left(1 \\right)}\\right)^{2}}{d^{\\frac{3}{2}} \\tan^{2}{\\left(1 \\right)}} + \\frac{12 b^{2} \\cdot \\left(1 + \\tan^{2}{\\left(1 \\right)}\\right)}{d^{\\frac{3}{2}} \\tan{\\left(1 \\right)}} + \\frac{24 b^{2} \\cdot \\left(1 + \\tan^{2}{\\left(1 \\right)}\\right)}{d^{\\frac{3}{2}}} - \\frac{b \\left(1 + \\tan^{2}{\\left(1 \\right)}\\right) \\left(16 - \\frac{3}{d^{\\frac{5}{2}}}\\right) \\log{\\left(d \\right)}}{2 \\tan{\\left(1 \\right)}} - \\frac{6 b \\left(1 + \\tan^{2}{\\left(1 \\right)}\\right) \\left(4 + \\frac{1}{\\sqrt{d}}\\right)}{d^{2} \\tan{\\left(1 \\right)}} + \\frac{5 b \\left(1 + \\tan^{2}{\\left(1 \\right)}\\right)}{d^{\\frac{5}{2}} \\tan{\\left(1 \\right)}} + \\frac{\\left(\\frac{2 b \\sqrt{d} \\left(1 + \\tan^{2}{\\left(1 \\right)}\\right) \\log{\\left(d \\right)}}{\\tan{\\left(1 \\right)}} + \\left(4 + \\frac{1}{\\sqrt{d}}\\right) \\log{\\left(\\tan{\\left(1 \\right)} \\right)}\\right)^{4}}{16} - \\frac{3 \\left(\\frac{2 b \\sqrt{d} \\left(1 + \\tan^{2}{\\left(1 \\right)}\\right) \\log{\\left(d \\right)}}{\\tan{\\left(1 \\right)}} + \\left(4 + \\frac{1}{\\sqrt{d}}\\right) \\log{\\left(\\tan{\\left(1 \\right)} \\right)}\\right)^{2} \\left(- 8 b^{2} \\sqrt{d} \\left(1 + \\tan^{2}{\\left(1 \\right)}\\right) \\log{\\left(d \\right)}^{2} - \\frac{4 b^{2} \\sqrt{d} \\left(1 + \\tan^{2}{\\left(1 \\right)}\\right) \\log{\\left(d \\right)}^{2}}{\\tan{\\left(1 \\right)}} + \\frac{4 b^{2} \\sqrt{d} \\left(1 + \\tan^{2}{\\left(1 \\right)}\\right)^{2} \\log{\\left(d \\right)}^{2}}{\\tan^{2}{\\left(1 \\right)}} - \\frac{4 b \\left(1 + \\tan^{2}{\\left(1 \\right)}\\right) \\left(4 + \\frac{1}{\\sqrt{d}}\\right) \\log{\\left(d \\right)}}{\\tan{\\left(1 \\right)}} - \\frac{8 b \\left(1 + \\tan^{2}{\\left(1 \\right)}\\right)}{\\sqrt{d} \\tan{\\left(1 \\right)}} + \\frac{\\log{\\left(\\tan{\\left(1 \\right)} \\right)}}{d^{\\frac{3}{2}}}\\right)}{8} - \\frac{\\left(\\frac{2 b \\sqrt{d} \\left(1 + \\tan^{2}{\\left(1 \\right)}\\right) \\log{\\left(d \\right)}}{\\tan{\\left(1 \\right)}} + \\left(4 + \\frac{1}{\\sqrt{d}}\\right) \\log{\\left(\\tan{\\left(1 \\right)} \\right)}\\right) \\left(- 32 b^{3} \\sqrt{d} \\left(1 + \\tan^{2}{\\left(1 \\right)}\\right) \\log{\\left(d \\right)}^{3} \\tan{\\left(1 \\right)} - \\frac{16 b^{3} \\sqrt{d} \\left(1 + \\tan^{2}{\\left(1 \\right)}\\right)^{3} \\log{\\left(d \\right)}^{3}}{\\tan^{3}{\\left(1 \\right)}} - 48 b^{3} \\sqrt{d} \\left(1 + \\tan^{2}{\\left(1 \\right)}\\right) \\log{\\left(d \\right)}^{3} - \\frac{8 b^{3} \\sqrt{d} \\left(1 + \\tan^{2}{\\left(1 \\right)}\\right) \\log{\\left(d \\right)}^{3}}{\\tan{\\left(1 \\right)}} + \\frac{24 b^{3} \\sqrt{d} \\left(1 + \\tan^{2}{\\left(1 \\right)}\\right)^{2} \\log{\\left(d \\right)}^{3}}{\\tan^{2}{\\left(1 \\right)}} + \\frac{32 b^{3} \\sqrt{d} \\left(1 + \\tan^{2}{\\left(1 \\right)}\\right)^{2} \\log{\\left(d \\right)}^{3}}{\\tan{\\left(1 \\right)}} - 24 b^{2} \\cdot \\left(1 + \\tan^{2}{\\left(1 \\right)}\\right) \\left(4 + \\frac{1}{\\sqrt{d}}\\right) \\log{\\left(d \\right)}^{2} - \\frac{12 b^{2} \\cdot \\left(1 + \\tan^{2}{\\left(1 \\right)}\\right) \\left(4 + \\frac{1}{\\sqrt{d}}\\right) \\log{\\left(d \\right)}^{2}}{\\tan{\\left(1 \\right)}} + \\frac{12 b^{2} \\left(1 + \\tan^{2}{\\left(1 \\right)}\\right)^{2} \\cdot \\left(4 + \\frac{1}{\\sqrt{d}}\\right) \\log{\\left(d \\right)}^{2}}{\\tan^{2}{\\left(1 \\right)}} - \\frac{96 b^{2} \\cdot \\left(1 + \\tan^{2}{\\left(1 \\right)}\\right) \\log{\\left(d \\right)}}{\\sqrt{d}} - \\frac{48 b^{2} \\cdot \\left(1 + \\tan^{2}{\\left(1 \\right)}\\right) \\log{\\left(d \\right)}}{\\sqrt{d} \\tan{\\left(1 \\right)}} + \\frac{48 b^{2} \\left(1 + \\tan^{2}{\\left(1 \\right)}\\right)^{2} \\log{\\left(d \\right)}}{\\sqrt{d} \\tan^{2}{\\left(1 \\right)}} - \\frac{24 b \\left(1 + \\tan^{2}{\\left(1 \\right)}\\right) \\left(4 + \\frac{1}{\\sqrt{d}}\\right)}{d \\tan{\\left(1 \\right)}} + \\frac{6 b \\left(1 + \\tan^{2}{\\left(1 \\right)}\\right) \\log{\\left(d \\right)}}{d^{\\frac{3}{2}} \\tan{\\left(1 \\right)}} + \\frac{24 b \\left(1 + \\tan^{2}{\\left(1 \\right)}\\right)}{d^{\\frac{3}{2}} \\tan{\\left(1 \\right)}} + \\left(16 - \\frac{3}{d^{\\frac{5}{2}}}\\right) \\log{\\left(\\tan{\\left(1 \\right)} \\right)}\\right)}{4} + \\frac{3 \\left(- 8 b^{2} \\sqrt{d} \\left(1 + \\tan^{2}{\\left(1 \\right)}\\right) \\log{\\left(d \\right)}^{2} - \\frac{4 b^{2} \\sqrt{d} \\left(1 + \\tan^{2}{\\left(1 \\right)}\\right) \\log{\\left(d \\right)}^{2}}{\\tan{\\left(1 \\right)}} + \\frac{4 b^{2} \\sqrt{d} \\left(1 + \\tan^{2}{\\left(1 \\right)}\\right)^{2} \\log{\\left(d \\right)}^{2}}{\\tan^{2}{\\left(1 \\right)}} - \\frac{4 b \\left(1 + \\tan^{2}{\\left(1 \\right)}\\right) \\left(4 + \\frac{1}{\\sqrt{d}}\\right) \\log{\\left(d \\right)}}{\\tan{\\left(1 \\right)}} - \\frac{8 b \\left(1 + \\tan^{2}{\\left(1 \\right)}\\right)}{\\sqrt{d} \\tan{\\left(1 \\right)}} + \\frac{\\log{\\left(\\tan{\\left(1 \\right)} \\right)}}{d^{\\frac{3}{2}}}\\right)^{2}}{16} - \\frac{15 \\log{\\left(\\tan{\\left(1 \\right)} \\right)}}{16 d^{\\frac{7}{2}}}\\right) \\tan^{\\sqrt{d}}{\\left(1 \\right)}}{24} + \\frac{x^{3} \\left(- \\frac{4 b^{3} \\sqrt{d} \\left(1 + \\tan^{2}{\\left(1 \\right)}\\right)^{2} \\log{\\left(d \\right)}^{3}}{\\tan{\\left(1 \\right)}} - \\frac{3 b^{3} \\sqrt{d} \\left(1 + \\tan^{2}{\\left(1 \\right)}\\right)^{2} \\log{\\left(d \\right)}^{3}}{\\tan^{2}{\\left(1 \\right)}} + \\frac{b^{3} \\sqrt{d} \\left(1 + \\tan^{2}{\\left(1 \\right)}\\right) \\log{\\left(d \\right)}^{3}}{\\tan{\\left(1 \\right)}} + 6 b^{3} \\sqrt{d} \\left(1 + \\tan^{2}{\\left(1 \\right)}\\right) \\log{\\left(d \\right)}^{3} + \\frac{2 b^{3} \\sqrt{d} \\left(1 + \\tan^{2}{\\left(1 \\right)}\\right)^{3} \\log{\\left(d \\right)}^{3}}{\\tan^{3}{\\left(1 \\right)}} + 4 b^{3} \\sqrt{d} \\left(1 + \\tan^{2}{\\left(1 \\right)}\\right) \\log{\\left(d \\right)}^{3} \\tan{\\left(1 \\right)} - \\frac{3 b^{2} \\left(1 + \\tan^{2}{\\left(1 \\right)}\\right)^{2} \\cdot \\left(4 + \\frac{1}{\\sqrt{d}}\\right) \\log{\\left(d \\right)}^{2}}{2 \\tan^{2}{\\left(1 \\right)}} + \\frac{3 b^{2} \\cdot \\left(1 + \\tan^{2}{\\left(1 \\right)}\\right) \\left(4 + \\frac{1}{\\sqrt{d}}\\right) \\log{\\left(d \\right)}^{2}}{2 \\tan{\\left(1 \\right)}} + 3 b^{2} \\cdot \\left(1 + \\tan^{2}{\\left(1 \\right)}\\right) \\left(4 + \\frac{1}{\\sqrt{d}}\\right) \\log{\\left(d \\right)}^{2} - \\frac{6 b^{2} \\left(1 + \\tan^{2}{\\left(1 \\right)}\\right)^{2} \\log{\\left(d \\right)}}{\\sqrt{d} \\tan^{2}{\\left(1 \\right)}} + \\frac{6 b^{2} \\cdot \\left(1 + \\tan^{2}{\\left(1 \\right)}\\right) \\log{\\left(d \\right)}}{\\sqrt{d} \\tan{\\left(1 \\right)}} + \\frac{12 b^{2} \\cdot \\left(1 + \\tan^{2}{\\left(1 \\right)}\\right) \\log{\\left(d \\right)}}{\\sqrt{d}} + \\frac{3 b \\left(1 + \\tan^{2}{\\left(1 \\right)}\\right) \\left(4 + \\frac{1}{\\sqrt{d}}\\right)}{d \\tan{\\left(1 \\right)}} - \\frac{3 b \\left(1 + \\tan^{2}{\\left(1 \\right)}\\right) \\log{\\left(d \\right)}}{4 d^{\\frac{3}{2}} \\tan{\\left(1 \\right)}} - \\frac{3 b \\left(1 + \\tan^{2}{\\left(1 \\right)}\\right)}{d^{\\frac{3}{2}} \\tan{\\left(1 \\right)}} - \\frac{\\left(16 - \\frac{3}{d^{\\frac{5}{2}}}\\right) \\log{\\left(\\tan{\\left(1 \\right)} \\right)}}{8} + \\frac{\\left(\\frac{2 b \\sqrt{d} \\left(1 + \\tan^{2}{\\left(1 \\right)}\\right) \\log{\\left(d \\right)}}{\\tan{\\left(1 \\right)}} + \\left(4 + \\frac{1}{\\sqrt{d}}\\right) \\log{\\left(\\tan{\\left(1 \\right)} \\right)}\\right)^{3}}{8} - \\frac{\\left(\\frac{6 b \\sqrt{d} \\left(1 + \\tan^{2}{\\left(1 \\right)}\\right) \\log{\\left(d \\right)}}{\\tan{\\left(1 \\right)}} + 3 \\cdot \\left(4 + \\frac{1}{\\sqrt{d}}\\right) \\log{\\left(\\tan{\\left(1 \\right)} \\right)}\\right) \\left(- 8 b^{2} \\sqrt{d} \\left(1 + \\tan^{2}{\\left(1 \\right)}\\right) \\log{\\left(d \\right)}^{2} - \\frac{4 b^{2} \\sqrt{d} \\left(1 + \\tan^{2}{\\left(1 \\right)}\\right) \\log{\\left(d \\right)}^{2}}{\\tan{\\left(1 \\right)}} + \\frac{4 b^{2} \\sqrt{d} \\left(1 + \\tan^{2}{\\left(1 \\right)}\\right)^{2} \\log{\\left(d \\right)}^{2}}{\\tan^{2}{\\left(1 \\right)}} - \\frac{4 b \\left(1 + \\tan^{2}{\\left(1 \\right)}\\right) \\left(4 + \\frac{1}{\\sqrt{d}}\\right) \\log{\\left(d \\right)}}{\\tan{\\left(1 \\right)}} - \\frac{8 b \\left(1 + \\tan^{2}{\\left(1 \\right)}\\right)}{\\sqrt{d} \\tan{\\left(1 \\right)}} + \\frac{\\log{\\left(\\tan{\\left(1 \\right)} \\right)}}{d^{\\frac{3}{2}}}\\right)}{8}\\right) \\tan^{\\sqrt{d}}{\\left(1 \\right)}}{6} + \\frac{x^{2} \\left(- \\frac{b^{2} \\sqrt{d} \\left(1 + \\tan^{2}{\\left(1 \\right)}\\right)^{2} \\log{\\left(d \\right)}^{2}}{\\tan^{2}{\\left(1 \\right)}} + \\frac{b^{2} \\sqrt{d} \\left(1 + \\tan^{2}{\\left(1 \\right)}\\right) \\log{\\left(d \\right)}^{2}}{\\tan{\\left(1 \\right)}} + 2 b^{2} \\sqrt{d} \\left(1 + \\tan^{2}{\\left(1 \\right)}\\right) \\log{\\left(d \\right)}^{2} + \\frac{b \\left(1 + \\tan^{2}{\\left(1 \\right)}\\right) \\left(4 + \\frac{1}{\\sqrt{d}}\\right) \\log{\\left(d \\right)}}{\\tan{\\left(1 \\right)}} + \\frac{2 b \\left(1 + \\tan^{2}{\\left(1 \\right)}\\right)}{\\sqrt{d} \\tan{\\left(1 \\right)}} + \\frac{\\left(\\frac{2 b \\sqrt{d} \\left(1 + \\tan^{2}{\\left(1 \\right)}\\right) \\log{\\left(d \\right)}}{\\tan{\\left(1 \\right)}} + \\left(4 + \\frac{1}{\\sqrt{d}}\\right) \\log{\\left(\\tan{\\left(1 \\right)} \\right)}\\right)^{2}}{4} - \\frac{\\log{\\left(\\tan{\\left(1 \\right)} \\right)}}{4 d^{\\frac{3}{2}}}\\right) \\tan^{\\sqrt{d}}{\\left(1 \\right)}}{2} + x \\left(\\frac{b \\sqrt{d} \\left(1 + \\tan^{2}{\\left(1 \\right)}\\right) \\log{\\left(d \\right)}}{\\tan{\\left(1 \\right)}} + \\left(2 + \\frac{1}{2 \\sqrt{d}}\\right) \\log{\\left(\\tan{\\left(1 \\right)} \\right)}\\right) \\tan^{\\sqrt{d}}{\\left(1 \\right)} + \\tan^{\\sqrt{d}}{\\left(1 \\right)}$"
     },
     "execution_count": 12,
     "metadata": {},
     "output_type": "execute_result"
    }
   ],
   "source": [
    "problem_y[0]"
   ],
   "metadata": {
    "collapsed": false,
    "pycharm": {
     "name": "#%%\n"
    }
   }
  },
  {
   "cell_type": "code",
   "execution_count": 16,
   "outputs": [],
   "source": [
    "prefix_len = [len(y) for y in y_taylor_prefix_train]"
   ],
   "metadata": {
    "collapsed": false,
    "pycharm": {
     "name": "#%%\n"
    }
   }
  },
  {
   "cell_type": "code",
   "execution_count": 17,
   "outputs": [
    {
     "data": {
      "text/plain": "[135, 19, 239, 148, 17, 51, 102, 65, 141, 5]"
     },
     "execution_count": 17,
     "metadata": {},
     "output_type": "execute_result"
    }
   ],
   "source": [
    "prefix_len[0:10]"
   ],
   "metadata": {
    "collapsed": false,
    "pycharm": {
     "name": "#%%\n"
    }
   }
  },
  {
   "cell_type": "code",
   "execution_count": 18,
   "outputs": [],
   "source": [
    "def clean_data():\n",
    "    \"\"\" Clean up data\n",
    "    - manually remove indices from `del_manual_idxs`\n",
    "    - remove where prefix notation is longer than 200\n",
    "    \"\"\"\n",
    "    del_manual_idxs = [\n",
    "        2775, # too long, recusion time out\n",
    "    ]\n",
    "\n",
    "\n",
    "    return 0"
   ],
   "metadata": {
    "collapsed": false,
    "pycharm": {
     "name": "#%%\n"
    }
   }
  },
  {
   "cell_type": "code",
   "execution_count": null,
   "outputs": [],
   "source": [
    "def del_too_long(data, max_len):\n",
    "    \"\"\" delete all where prefix notation is longer than max_len \"\"\""
   ],
   "metadata": {
    "collapsed": false,
    "pycharm": {
     "name": "#%%\n"
    }
   }
  }
 ],
 "metadata": {
  "kernelspec": {
   "display_name": "Python 3",
   "language": "python",
   "name": "python3"
  },
  "language_info": {
   "codemirror_mode": {
    "name": "ipython",
    "version": 2
   },
   "file_extension": ".py",
   "mimetype": "text/x-python",
   "name": "python",
   "nbconvert_exporter": "python",
   "pygments_lexer": "ipython2",
   "version": "2.7.6"
  }
 },
 "nbformat": 4,
 "nbformat_minor": 0
}